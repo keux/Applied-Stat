{
 "cells": [
  {
   "cell_type": "code",
   "execution_count": 453,
   "metadata": {},
   "outputs": [],
   "source": [
    "import numpy as np\n",
    "import matplotlib.pyplot as plt\n",
    "import seaborn as sns\n",
    "import scipy\n",
    "import pandas as pd\n",
    "from tqdm import tqdm\n",
    "import warnings\n",
    "warnings.filterwarnings(\"always\")\n",
    "%matplotlib inline"
   ]
  },
  {
   "cell_type": "code",
   "execution_count": 2,
   "metadata": {},
   "outputs": [],
   "source": [
    "from scipy.stats import cauchy\n",
    "from scipy.stats import norm\n",
    "from scipy.stats import t\n",
    "from scipy.stats import expon"
   ]
  },
  {
   "cell_type": "markdown",
   "metadata": {},
   "source": [
    "## Задание 2"
   ]
  },
  {
   "cell_type": "markdown",
   "metadata": {},
   "source": [
    "$$Var(\\bar{X}_n^2) = E(\\bar{X}_n^4) - (E\\bar{X}_n^2)^2$$\n",
    "\n",
    "Сначала для $E(\\bar{X}_n^4)$:\n",
    "$$E(\\bar{X}_n^4) =  E(\\frac{1}{n}\\sum (X_i - \\bar{X}_n) + \\bar{X}_n)^4 = $$\n",
    "Обозначим, как $ S_n = \\frac{1}{n}\\sum (X_i - \\bar{X}_n)$\n",
    "\n",
    "$\\bar{X}_n$ в данном случае -- эмпирическая величина, константа, будем выносить ее из под мат ожидания.\n",
    "$$ = E(S_n + \\bar{X}_n)^4 \\\\ = E(S_n^4 + 4\\bar{X}_nS_n^3 + 6\\bar{X}_n^2S_n^2 + 4\\bar{X}_n^3S_n + \\bar{X}_n^4) \\\\ = E(S_n^4) + 4\\bar{X}_nE(S_n^3) + 6\\bar{X}_n^2E(S_n^2) + \\bar{X}_n^4 $$\n",
    "\n",
    "Теперь (+ везде учитываем, что $S_n = 0$)\n",
    "1. $$ E(S_n^4) = E(\\frac{1}{n^4}[\\sum(X_i - \\bar{X}_n)^4 + \\sum\\sum(X_i - \\bar{X}_n)^2(X_j - \\bar{X}_n)^2]) = \\\\ =\n",
    "\\frac{\\hat{\\alpha}_4}{n^3} + \\frac{3(n-1)\\hat{\\alpha}_2^2}{n^3}\n",
    "$$\n",
    "2. $$ E(S_n^3) = (\\frac{1}{n^3}\\sum(X_i - \\bar{X}_n)^3) = \\frac{\\hat{\\alpha}_3}{n^2}$$\n",
    "3. $$E(S_n^2) = (\\frac{1}{n^2}\\sum(X_i - \\bar{X}_n)^2) = \\frac{\\hat{\\alpha}_2}{n}$$\n",
    "\n",
    "\n",
    "Для $(E\\bar{X}_n^2)^2$ аналогично:\n",
    "$$E\\bar{X}_n^2 = E(\\frac{1}{n}\\sum (X_i - \\bar{X}_n) + \\bar{X}_n)^2 = E(S_n^2 + 2S_n\\bar{X}_n + \\bar{X}_n^2) = \\\\ = ES_n^2 + \\bar{X}_n^2 = \\frac{\\hat{\\alpha}_2}{n} + \\bar{X}_n^2$$\n",
    "\n",
    "\n",
    "Итого, получаем:\n",
    "$$\\frac{\\hat{\\alpha}_4}{n^3} + \\frac{3(n-1)\\hat{\\alpha}_2^2}{n^3} + \\frac{4\\bar{X}_n\\hat{\\alpha}_3}{n^2} + \\frac{6\\bar{X}_n^2\\hat{\\alpha}_2}{n} + \\bar{X}_n^4 - \\frac{\\hat{\\alpha}_2^2}{n^2} - \\frac{2\\bar{X}_n^2\\hat{\\alpha}_2}{n} - \\bar{X}_n^4 = \\\\ = \n",
    "\\frac{4\\bar{X}_n^2\\hat{\\alpha}_2}{n} + \\frac{4\\bar{X}_n\\hat{\\alpha}_3}{n^2} + \\frac{\\hat{\\alpha}_4}{n^3} + \\frac{\\hat{\\alpha}_2^2(2n - 3)}{n^3}\n",
    "$$"
   ]
  },
  {
   "cell_type": "markdown",
   "metadata": {},
   "source": [
    "## Задание 3"
   ]
  },
  {
   "cell_type": "markdown",
   "metadata": {},
   "source": [
    "1.\n",
    "Можно доказать в общем случае.\n",
    "\n",
    "$X_{(1)}, ..., X_{(n)}$ - исходная выборка, тогда для нее медиана $med = \\theta = X_{(m)}$\n",
    "\n",
    "$X^{*}_{(1)}, ..., X^{*}_{(n)}$ - исходная выборка, тогда для нее медиана $med = \\hat{\\theta} = X^{*}_{(m)}$\n",
    "\n",
    "$$P(\\hat{\\theta} > x_{(k)}) = P\\Big(\\sum_{i = 0}^{k} \\# \\{ X^{*}_{(j)} == x_{(i)} \\} \\leq m - 1\\Big) = $$\n",
    "То есть для каждой порядковой статистики в исходной выборке, начиная от 1-й и до k-й, считаем количество равных им элементов в бутстрапной выборке. И так как мы рассмтариваем упорядоченные выборки, их общее кол-во должно быть меньше медианы m. Вполне очевидно, что это общее количество ($\\sum\\# \\{ X^{*}_{(j)} == x_{(i)} \\}$) достигается выбором k элементов из n, каждый с вероятностью k/n.\n",
    "$$ \\\\\n",
    "= P\\Big(C^{k}_{n} \\Big[\\frac{k}{n}\\Big]^{k} \\Big[1 - \\frac{k}{n}\\Big]^{n - k} \\leq m - 1\\Big) = \\\\ =P\\Big(Bi(n, \\frac{k}{n}) \\leq m - 1\\Big) = \\\\ =\\sum_{j = 0}^{m - 1} \\Big[\\frac{k}{n}\\Big]^{j} \\Big[1 - \\frac{k}{n}\\Big]^{n - j} = \\\\ = \\sum_{j = 0}^{m - 1} Bi(j, n , \\frac{k}{n})$$ \n",
    "\n",
    "Подставляя условие задачи и учитывая, что в случае 11 элементов медиана -- это 6я порядковая статистика, получаем:\n",
    "$$P\\Big(\\hat{\\theta} > x_{(i)}\\Big) = \\sum_{j = 0}^{5} Bi(j, 11, \\frac{i}{11})$$"
   ]
  },
  {
   "cell_type": "markdown",
   "metadata": {},
   "source": [
    "2.\n",
    "Из первого следует 2-й пункт.\n",
    "\n",
    "$$P\\Big(\\hat{\\theta} = x_{(i)}\\Big) = \\\\ = 1 - P\\Big(\\hat{\\theta} > x_{(i)}\\Big) - P\\Big(\\hat{\\theta} < x_{(i)}\\Big) = \\\\ = P\\Big(\\hat{\\theta} \\geq x_{(i)}\\Big) - P\\Big(\\hat{\\theta} > x_{(i)}\\Big) = \\\\ =P\\Big(\\hat{\\theta} > x_{(i - 1)}\\Big) -  P\\Big(\\hat{\\theta} > x_{(i)}\\Big) = \\\\ = \\sum_{j = 0}^{m-1} \\Big[Bi(j, n, \\frac{i-1}{n}) - Bi(j, n, \\frac{i}{n}) \\Big]$$"
   ]
  },
  {
   "cell_type": "markdown",
   "metadata": {},
   "source": [
    "3.\n",
    "Хотим найти $\\Big[ \\hat{\\theta}_{low}, \\hat{\\theta}_{up} \\Big] = \\Big[ x_{(k_1)}, x_{(k_2)} \\Big]$\n",
    "\n",
    "Такой, что $P(\\hat{\\theta}_{low} \\leq \\hat{\\theta} \\leq \\hat{\\theta}_{up}) = P(x_{(k_1)} \\leq \\hat{\\theta} \\leq x_{(k_2)}) = 0.9$\n",
    "\n",
    "$P(x_{(k_1)} \\leq \\hat{\\theta} \\leq x_{(k_2)}) = -P(\\hat{\\theta} \\geq x_{(k_2)}) + P(\\hat{\\theta} \\geq x_{(k_1)}) = \\sum_{j = 0}^{m - 1} \\Big[ Bi(j, n, \\frac{k_1}{n}) - Bi(j, n, \\frac{k_2}{n}) \\Big]$\n",
    "\n",
    "Используя подсказку из условия и 1 пункт, подсчитаем для $k_1, k_2 = 3, 9$"
   ]
  },
  {
   "cell_type": "code",
   "execution_count": 262,
   "metadata": {},
   "outputs": [],
   "source": [
    "def compute_ci(k1, k2, N, m):\n",
    "    p1 = k1 / N\n",
    "    p2 = k2 / N\n",
    "    Prob1 = 0\n",
    "    Prob2 = 0\n",
    "\n",
    "    for j in range(m):\n",
    "        cnk = scipy.special.comb(N, j)\n",
    "        Prob1 += cnk * (p1 ** j) * ((1 - p1) ** (N - j))\n",
    "        Prob2 += cnk * (p2 ** j) * ((1 - p2) ** (N - j))\n",
    "    return Prob1, Prob2"
   ]
  },
  {
   "cell_type": "code",
   "execution_count": 10,
   "metadata": {},
   "outputs": [
    {
     "data": {
      "text/plain": [
       "0.941546286195427"
      ]
     },
     "execution_count": 10,
     "metadata": {},
     "output_type": "execute_result"
    }
   ],
   "source": [
    "p1, p2 = compute_ci(3, 9, 11, 6)\n",
    "p1 - p2"
   ]
  },
  {
   "cell_type": "code",
   "execution_count": 13,
   "metadata": {},
   "outputs": [
    {
     "data": {
      "text/plain": [
       "0.8975068079641584"
      ]
     },
     "execution_count": 13,
     "metadata": {},
     "output_type": "execute_result"
    }
   ],
   "source": [
    "p1, p2 = compute_ci(3, 8, 11, 6)\n",
    "p1 - p2"
   ]
  },
  {
   "cell_type": "markdown",
   "metadata": {},
   "source": [
    "Как видим выше, $[x_{(3)}, x_{(9)}]$ перепокрывает (0.94), а $[x_{(3)}, x_{(8)}]$ немного недопокрывает (0.8975), поэтому ответ $$\\Big[ \\hat{\\theta}_{low}, \\hat{\\theta}_{up} \\Big] = \\Big[ x_{(3)}, x_{(9)} \\Big]$$"
   ]
  },
  {
   "cell_type": "markdown",
   "metadata": {},
   "source": [
    "В целом можно посчитать все возможные интервалы:"
   ]
  },
  {
   "cell_type": "code",
   "execution_count": 265,
   "metadata": {},
   "outputs": [
    {
     "name": "stdout",
     "output_type": "stream",
     "text": [
      "low 1, up 6  0.6211946316302097\n",
      "low 1, up 7  0.827078969656778\n",
      "low 1, up 8  0.9485793115206888\n",
      "low 1, up 9  0.9926187897519574\n",
      "low 1, up 10  0.9996518150772195\n",
      "low 1, up 11  0.9998259075386096\n",
      "low 2, up 6  0.6141616063049472\n",
      "low 2, up 7  0.8200459443315155\n",
      "low 2, up 8  0.9415462861954262\n",
      "low 2, up 9  0.9855857644266949\n",
      "low 2, up 10  0.9926187897519569\n",
      "low 2, up 11  0.992792882213347\n",
      "low 3, up 6  0.5701221280736793\n",
      "low 3, up 7  0.7760064661002476\n",
      "low 3, up 8  0.8975068079641584\n",
      "low 3, up 9  0.941546286195427\n",
      "low 3, up 10  0.9485793115206891\n",
      "low 3, up 11  0.9487534039820792\n",
      "low 4, up 6  0.44862178620976856\n",
      "low 4, up 7  0.6545061242363368\n",
      "low 4, up 8  0.7760064661002476\n",
      "low 4, up 9  0.8200459443315162\n",
      "low 4, up 10  0.8270789696567783\n",
      "low 4, up 11  0.8272530621181684\n",
      "low 5, up 6  0.24273744818319998\n",
      "low 5, up 7  0.4486217862097682\n",
      "low 5, up 8  0.570122128073679\n",
      "low 5, up 9  0.6141616063049476\n",
      "low 5, up 10  0.6211946316302097\n",
      "low 5, up 11  0.6213687240915998\n"
     ]
    }
   ],
   "source": [
    "for i in range(1, 6):\n",
    "    for j in range(6, 12):\n",
    "        p1, p2 = compute_ci(i, j, 11, 6)\n",
    "        print(\"low %d, up %d \" % (i, j), p1 - p2)"
   ]
  },
  {
   "cell_type": "markdown",
   "metadata": {},
   "source": [
    "## Задача 4"
   ]
  },
  {
   "cell_type": "code",
   "execution_count": 306,
   "metadata": {},
   "outputs": [],
   "source": [
    "from scipy.stats import norm"
   ]
  },
  {
   "cell_type": "code",
   "execution_count": 307,
   "metadata": {},
   "outputs": [
    {
     "data": {
      "text/html": [
       "<div>\n",
       "<style scoped>\n",
       "    .dataframe tbody tr th:only-of-type {\n",
       "        vertical-align: middle;\n",
       "    }\n",
       "\n",
       "    .dataframe tbody tr th {\n",
       "        vertical-align: top;\n",
       "    }\n",
       "\n",
       "    .dataframe thead th {\n",
       "        text-align: right;\n",
       "    }\n",
       "</style>\n",
       "<table border=\"1\" class=\"dataframe\">\n",
       "  <thead>\n",
       "    <tr style=\"text-align: right;\">\n",
       "      <th></th>\n",
       "      <th>dat</th>\n",
       "    </tr>\n",
       "  </thead>\n",
       "  <tbody>\n",
       "    <tr>\n",
       "      <td>1</td>\n",
       "      <td>9172</td>\n",
       "    </tr>\n",
       "    <tr>\n",
       "      <td>2</td>\n",
       "      <td>9350</td>\n",
       "    </tr>\n",
       "    <tr>\n",
       "      <td>3</td>\n",
       "      <td>9483</td>\n",
       "    </tr>\n",
       "    <tr>\n",
       "      <td>4</td>\n",
       "      <td>9558</td>\n",
       "    </tr>\n",
       "    <tr>\n",
       "      <td>5</td>\n",
       "      <td>9775</td>\n",
       "    </tr>\n",
       "  </tbody>\n",
       "</table>\n",
       "</div>"
      ],
      "text/plain": [
       "    dat\n",
       "1  9172\n",
       "2  9350\n",
       "3  9483\n",
       "4  9558\n",
       "5  9775"
      ]
     },
     "execution_count": 307,
     "metadata": {},
     "output_type": "execute_result"
    }
   ],
   "source": [
    "data = pd.read_csv('номер 4/galaxies.csv', index_col=0)\n",
    "data.head()"
   ]
  },
  {
   "cell_type": "markdown",
   "metadata": {},
   "source": [
    "(a)."
   ]
  },
  {
   "cell_type": "code",
   "execution_count": 308,
   "metadata": {},
   "outputs": [],
   "source": [
    "X = data['dat'].values"
   ]
  },
  {
   "cell_type": "code",
   "execution_count": 309,
   "metadata": {},
   "outputs": [],
   "source": [
    "start = 1000\n",
    "end = 40000\n",
    "x = np.linspace(start, end, 1000)"
   ]
  },
  {
   "cell_type": "code",
   "execution_count": 310,
   "metadata": {},
   "outputs": [],
   "source": [
    "def get_density(x, h, X):\n",
    "    return [np.mean(norm.pdf((x0 - X) / h))/h for x0 in x]"
   ]
  },
  {
   "cell_type": "code",
   "execution_count": 311,
   "metadata": {},
   "outputs": [],
   "source": [
    "def is_unimodal(densities):\n",
    "    peak_cnt = 0\n",
    "    for i in range(1, len(densities) - 1):\n",
    "        if densities[i-1] < densities[i] and densities[i] > densities[i+1]:\n",
    "            peak_cnt += 1\n",
    "    return peak_cnt == 1"
   ]
  },
  {
   "cell_type": "code",
   "execution_count": 312,
   "metadata": {},
   "outputs": [],
   "source": [
    "def get_h_uni(x, X):\n",
    "    left = 1e-2\n",
    "    right = 5000\n",
    "\n",
    "    while right - left > 0.1:\n",
    "        h_min = (right + left) / 2\n",
    "        dens = get_density(x, h_min, X)\n",
    "\n",
    "        if is_unimodal(dens):\n",
    "            right = h_min\n",
    "        else:\n",
    "            left = h_min\n",
    "    return h_min"
   ]
  },
  {
   "cell_type": "code",
   "execution_count": 137,
   "metadata": {},
   "outputs": [
    {
     "data": {
      "text/plain": [
       "3045.88708694458"
      ]
     },
     "execution_count": 137,
     "metadata": {},
     "output_type": "execute_result"
    }
   ],
   "source": [
    "h_uni = get_h_uni(x, X)\n",
    "h_uni"
   ]
  },
  {
   "cell_type": "code",
   "execution_count": 315,
   "metadata": {},
   "outputs": [
    {
     "data": {
      "text/plain": [
       "[<matplotlib.lines.Line2D at 0x7f64e969b350>]"
      ]
     },
     "execution_count": 315,
     "metadata": {},
     "output_type": "execute_result"
    },
    {
     "data": {
      "image/png": "[encoded data removed]",
      "text/plain": [
       "<Figure size 432x288 with 1 Axes>"
      ]
     },
     "metadata": {
      "needs_background": "light"
     },
     "output_type": "display_data"
    }
   ],
   "source": [
    "ds = get_density(x, h_uni, X)\n",
    "plt.plot(x, ds)"
   ]
  },
  {
   "cell_type": "code",
   "execution_count": 316,
   "metadata": {},
   "outputs": [
    {
     "data": {
      "text/plain": [
       "True"
      ]
     },
     "execution_count": 316,
     "metadata": {},
     "output_type": "execute_result"
    }
   ],
   "source": [
    "is_unimodal(ds)"
   ]
  },
  {
   "cell_type": "markdown",
   "metadata": {},
   "source": [
    "(b)."
   ]
  },
  {
   "cell_type": "code",
   "execution_count": 317,
   "metadata": {},
   "outputs": [],
   "source": [
    "B = 100\n",
    "N = len(X)\n",
    "\n",
    "X_boots = np.random.choice(X, (B, N), replace=True)\n",
    "e = h_uni * norm.rvs(loc=0, scale=1, size=(B, N))\n",
    "X_boots = X_boots + e"
   ]
  },
  {
   "cell_type": "code",
   "execution_count": 318,
   "metadata": {},
   "outputs": [
    {
     "name": "stderr",
     "output_type": "stream",
     "text": [
      "\n",
      "\n",
      "\n",
      "  0%|          | 0/100 [00:00<?, ?it/s]\u001b[A\u001b[A\u001b[A\n",
      "\n",
      "\n",
      "  1%|          | 1/100 [00:02<03:30,  2.12s/it]\u001b[A\u001b[A\u001b[A\n",
      "\n",
      "\n",
      "  2%|▏         | 2/100 [00:04<03:27,  2.12s/it]\u001b[A\u001b[A\u001b[A\n",
      "\n",
      "\n",
      "  3%|▎         | 3/100 [00:06<03:26,  2.13s/it]\u001b[A\u001b[A\u001b[A\n",
      "\n",
      "\n",
      "  4%|▍         | 4/100 [00:08<03:23,  2.12s/it]\u001b[A\u001b[A\u001b[A\n",
      "\n",
      "\n",
      "  5%|▌         | 5/100 [00:10<03:19,  2.10s/it]\u001b[A\u001b[A\u001b[A\n",
      "\n",
      "\n",
      "  6%|▌         | 6/100 [00:12<03:16,  2.09s/it]\u001b[A\u001b[A\u001b[A\n",
      "\n",
      "\n",
      "  7%|▋         | 7/100 [00:14<03:14,  2.09s/it]\u001b[A\u001b[A\u001b[A\n",
      "\n",
      "\n",
      "  8%|▊         | 8/100 [00:16<03:11,  2.08s/it]\u001b[A\u001b[A\u001b[A\n",
      "\n",
      "\n",
      "  9%|▉         | 9/100 [00:18<03:09,  2.09s/it]\u001b[A\u001b[A\u001b[A\n",
      "\n",
      "\n",
      " 10%|█         | 10/100 [00:20<03:07,  2.09s/it]\u001b[A\u001b[A\u001b[A\n",
      "\n",
      "\n",
      " 11%|█         | 11/100 [00:23<03:05,  2.08s/it]\u001b[A\u001b[A\u001b[A\n",
      "\n",
      "\n",
      " 12%|█▏        | 12/100 [00:25<03:02,  2.08s/it]\u001b[A\u001b[A\u001b[A\n",
      "\n",
      "\n",
      " 13%|█▎        | 13/100 [00:27<03:01,  2.08s/it]\u001b[A\u001b[A\u001b[A\n",
      "\n",
      "\n",
      " 14%|█▍        | 14/100 [00:29<02:58,  2.08s/it]\u001b[A\u001b[A\u001b[A\n",
      "\n",
      "\n",
      " 15%|█▌        | 15/100 [00:32<03:15,  2.30s/it]\u001b[A\u001b[A\u001b[A\n",
      "\n",
      "\n",
      " 16%|█▌        | 16/100 [00:34<03:07,  2.23s/it]\u001b[A\u001b[A\u001b[A\n",
      "\n",
      "\n",
      " 17%|█▋        | 17/100 [00:36<03:01,  2.18s/it]\u001b[A\u001b[A\u001b[A\n",
      "\n",
      "\n",
      " 18%|█▊        | 18/100 [00:38<02:56,  2.15s/it]\u001b[A\u001b[A\u001b[A\n",
      "\n",
      "\n",
      " 19%|█▉        | 19/100 [00:40<02:52,  2.12s/it]\u001b[A\u001b[A\u001b[A\n",
      "\n",
      "\n",
      " 20%|██        | 20/100 [00:42<02:48,  2.10s/it]\u001b[A\u001b[A\u001b[A\n",
      "\n",
      "\n",
      " 21%|██        | 21/100 [00:44<02:45,  2.10s/it]\u001b[A\u001b[A\u001b[A\n",
      "\n",
      "\n",
      " 22%|██▏       | 22/100 [00:46<02:43,  2.09s/it]\u001b[A\u001b[A\u001b[A\n",
      "\n",
      "\n",
      " 23%|██▎       | 23/100 [00:48<02:40,  2.09s/it]\u001b[A\u001b[A\u001b[A\n",
      "\n",
      "\n",
      " 24%|██▍       | 24/100 [00:50<02:38,  2.08s/it]\u001b[A\u001b[A\u001b[A\n",
      "\n",
      "\n",
      " 25%|██▌       | 25/100 [00:52<02:35,  2.07s/it]\u001b[A\u001b[A\u001b[A\n",
      "\n",
      "\n",
      " 26%|██▌       | 26/100 [00:54<02:33,  2.07s/it]\u001b[A\u001b[A\u001b[A\n",
      "\n",
      "\n",
      " 27%|██▋       | 27/100 [00:56<02:30,  2.07s/it]\u001b[A\u001b[A\u001b[A\n",
      "\n",
      "\n",
      " 28%|██▊       | 28/100 [00:58<02:28,  2.06s/it]\u001b[A\u001b[A\u001b[A\n",
      "\n",
      "\n",
      " 29%|██▉       | 29/100 [01:00<02:26,  2.06s/it]\u001b[A\u001b[A\u001b[A\n",
      "\n",
      "\n",
      " 30%|███       | 30/100 [01:03<02:24,  2.07s/it]\u001b[A\u001b[A\u001b[A\n",
      "\n",
      "\n",
      " 31%|███       | 31/100 [01:05<02:22,  2.07s/it]\u001b[A\u001b[A\u001b[A\n",
      "\n",
      "\n",
      " 32%|███▏      | 32/100 [01:07<02:20,  2.07s/it]\u001b[A\u001b[A\u001b[A\n",
      "\n",
      "\n",
      " 33%|███▎      | 33/100 [01:09<02:18,  2.06s/it]\u001b[A\u001b[A\u001b[A\n",
      "\n",
      "\n",
      " 34%|███▍      | 34/100 [01:11<02:16,  2.06s/it]\u001b[A\u001b[A\u001b[A\n",
      "\n",
      "\n",
      " 35%|███▌      | 35/100 [01:13<02:14,  2.07s/it]\u001b[A\u001b[A\u001b[A\n",
      "\n",
      "\n",
      " 36%|███▌      | 36/100 [01:15<02:12,  2.07s/it]\u001b[A\u001b[A\u001b[A\n",
      "\n",
      "\n",
      " 37%|███▋      | 37/100 [01:18<02:24,  2.30s/it]\u001b[A\u001b[A\u001b[A\n",
      "\n",
      "\n",
      " 38%|███▊      | 38/100 [01:20<02:18,  2.23s/it]\u001b[A\u001b[A\u001b[A\n",
      "\n",
      "\n",
      " 39%|███▉      | 39/100 [01:22<02:13,  2.18s/it]\u001b[A\u001b[A\u001b[A\n",
      "\n",
      "\n",
      " 40%|████      | 40/100 [01:24<02:09,  2.15s/it]\u001b[A\u001b[A\u001b[A\n",
      "\n",
      "\n",
      " 41%|████      | 41/100 [01:26<02:05,  2.12s/it]\u001b[A\u001b[A\u001b[A\n",
      "\n",
      "\n",
      " 42%|████▏     | 42/100 [01:28<02:02,  2.11s/it]\u001b[A\u001b[A\u001b[A\n",
      "\n",
      "\n",
      " 43%|████▎     | 43/100 [01:30<01:59,  2.10s/it]\u001b[A\u001b[A\u001b[A\n",
      "\n",
      "\n",
      " 44%|████▍     | 44/100 [01:32<01:56,  2.09s/it]\u001b[A\u001b[A\u001b[A\n",
      "\n",
      "\n",
      " 45%|████▌     | 45/100 [01:34<01:54,  2.08s/it]\u001b[A\u001b[A\u001b[A\n",
      "\n",
      "\n",
      " 46%|████▌     | 46/100 [01:36<01:52,  2.07s/it]\u001b[A\u001b[A\u001b[A\n",
      "\n",
      "\n",
      " 47%|████▋     | 47/100 [01:38<01:50,  2.08s/it]\u001b[A\u001b[A\u001b[A\n",
      "\n",
      "\n",
      " 48%|████▊     | 48/100 [01:41<01:48,  2.08s/it]\u001b[A\u001b[A\u001b[A\n",
      "\n",
      "\n",
      " 49%|████▉     | 49/100 [01:43<01:45,  2.08s/it]\u001b[A\u001b[A\u001b[A\n",
      "\n",
      "\n",
      " 50%|█████     | 50/100 [01:45<01:44,  2.08s/it]\u001b[A\u001b[A\u001b[A\n",
      "\n",
      "\n",
      " 51%|█████     | 51/100 [01:47<01:42,  2.08s/it]\u001b[A\u001b[A\u001b[A\n",
      "\n",
      "\n",
      " 52%|█████▏    | 52/100 [01:49<01:39,  2.08s/it]\u001b[A\u001b[A\u001b[A\n",
      "\n",
      "\n",
      " 53%|█████▎    | 53/100 [01:51<01:37,  2.08s/it]\u001b[A\u001b[A\u001b[A\n",
      "\n",
      "\n",
      " 54%|█████▍    | 54/100 [01:53<01:35,  2.07s/it]\u001b[A\u001b[A\u001b[A\n",
      "\n",
      "\n",
      " 55%|█████▌    | 55/100 [01:55<01:33,  2.09s/it]\u001b[A\u001b[A\u001b[A\n",
      "\n",
      "\n",
      " 56%|█████▌    | 56/100 [01:57<01:31,  2.09s/it]\u001b[A\u001b[A\u001b[A\n",
      "\n",
      "\n",
      " 57%|█████▋    | 57/100 [01:59<01:29,  2.08s/it]\u001b[A\u001b[A\u001b[A\n",
      "\n",
      "\n",
      " 58%|█████▊    | 58/100 [02:01<01:27,  2.08s/it]\u001b[A\u001b[A\u001b[A\n",
      "\n",
      "\n",
      " 59%|█████▉    | 59/100 [02:03<01:25,  2.08s/it]\u001b[A\u001b[A\u001b[A\n",
      "\n",
      "\n",
      " 60%|██████    | 60/100 [02:06<01:24,  2.11s/it]\u001b[A\u001b[A\u001b[A\n",
      "\n",
      "\n",
      " 61%|██████    | 61/100 [02:08<01:22,  2.12s/it]\u001b[A\u001b[A\u001b[A\n",
      "\n",
      "\n",
      " 62%|██████▏   | 62/100 [02:10<01:19,  2.10s/it]\u001b[A\u001b[A\u001b[A\n",
      "\n",
      "\n",
      " 63%|██████▎   | 63/100 [02:12<01:17,  2.09s/it]\u001b[A\u001b[A\u001b[A\n",
      "\n",
      "\n",
      " 64%|██████▍   | 64/100 [02:14<01:14,  2.08s/it]\u001b[A\u001b[A\u001b[A\n",
      "\n",
      "\n",
      " 65%|██████▌   | 65/100 [02:16<01:12,  2.07s/it]\u001b[A\u001b[A\u001b[A\n",
      "\n",
      "\n",
      " 66%|██████▌   | 66/100 [02:18<01:10,  2.08s/it]\u001b[A\u001b[A\u001b[A\n",
      "\n",
      "\n",
      " 67%|██████▋   | 67/100 [02:20<01:08,  2.08s/it]\u001b[A\u001b[A\u001b[A\n",
      "\n",
      "\n",
      " 68%|██████▊   | 68/100 [02:22<01:06,  2.07s/it]\u001b[A\u001b[A\u001b[A\n",
      "\n",
      "\n",
      " 69%|██████▉   | 69/100 [02:24<01:04,  2.07s/it]\u001b[A\u001b[A\u001b[A\n",
      "\n",
      "\n",
      " 70%|███████   | 70/100 [02:26<01:02,  2.07s/it]\u001b[A\u001b[A\u001b[A\n",
      "\n",
      "\n",
      " 71%|███████   | 71/100 [02:28<00:59,  2.06s/it]\u001b[A\u001b[A\u001b[A\n",
      "\n",
      "\n",
      " 72%|███████▏  | 72/100 [02:30<00:57,  2.06s/it]\u001b[A\u001b[A\u001b[A\n",
      "\n",
      "\n",
      " 73%|███████▎  | 73/100 [02:33<00:55,  2.07s/it]\u001b[A\u001b[A\u001b[A\n",
      "\n",
      "\n",
      " 74%|███████▍  | 74/100 [02:35<00:53,  2.07s/it]\u001b[A\u001b[A\u001b[A\n",
      "\n",
      "\n",
      " 75%|███████▌  | 75/100 [02:37<00:51,  2.06s/it]\u001b[A\u001b[A\u001b[A\n",
      "\n",
      "\n",
      " 76%|███████▌  | 76/100 [02:39<00:49,  2.06s/it]\u001b[A\u001b[A\u001b[A\n",
      "\n",
      "\n",
      " 77%|███████▋  | 77/100 [02:41<00:47,  2.07s/it]\u001b[A\u001b[A\u001b[A\n",
      "\n",
      "\n",
      " 78%|███████▊  | 78/100 [02:43<00:45,  2.07s/it]\u001b[A\u001b[A\u001b[A\n",
      "\n",
      "\n",
      " 79%|███████▉  | 79/100 [02:45<00:43,  2.07s/it]\u001b[A\u001b[A\u001b[A\n",
      "\n",
      "\n",
      " 80%|████████  | 80/100 [02:47<00:41,  2.07s/it]\u001b[A\u001b[A\u001b[A\n",
      "\n",
      "\n",
      " 81%|████████  | 81/100 [02:49<00:39,  2.07s/it]\u001b[A\u001b[A\u001b[A\n",
      "\n",
      "\n",
      " 82%|████████▏ | 82/100 [02:51<00:37,  2.07s/it]\u001b[A\u001b[A\u001b[A\n",
      "\n",
      "\n",
      " 83%|████████▎ | 83/100 [02:53<00:35,  2.07s/it]\u001b[A\u001b[A\u001b[A\n",
      "\n",
      "\n",
      " 84%|████████▍ | 84/100 [02:55<00:33,  2.07s/it]\u001b[A\u001b[A\u001b[A\n",
      "\n",
      "\n",
      " 85%|████████▌ | 85/100 [02:57<00:31,  2.07s/it]\u001b[A\u001b[A\u001b[A\n",
      "\n",
      "\n",
      " 86%|████████▌ | 86/100 [02:59<00:29,  2.07s/it]\u001b[A\u001b[A\u001b[A\n",
      "\n",
      "\n",
      " 87%|████████▋ | 87/100 [03:02<00:26,  2.07s/it]\u001b[A\u001b[A\u001b[A\n",
      "\n",
      "\n",
      " 88%|████████▊ | 88/100 [03:04<00:24,  2.08s/it]\u001b[A\u001b[A\u001b[A\n",
      "\n",
      "\n",
      " 89%|████████▉ | 89/100 [03:06<00:22,  2.08s/it]\u001b[A\u001b[A\u001b[A\n",
      "\n",
      "\n",
      " 90%|█████████ | 90/100 [03:08<00:21,  2.14s/it]\u001b[A\u001b[A\u001b[A\n",
      "\n",
      "\n",
      " 91%|█████████ | 91/100 [03:10<00:19,  2.12s/it]\u001b[A\u001b[A\u001b[A\n",
      "\n",
      "\n",
      " 92%|█████████▏| 92/100 [03:12<00:16,  2.11s/it]\u001b[A\u001b[A\u001b[A\n",
      "\n",
      "\n",
      " 93%|█████████▎| 93/100 [03:14<00:14,  2.09s/it]\u001b[A\u001b[A\u001b[A\n",
      "\n",
      "\n",
      " 94%|█████████▍| 94/100 [03:16<00:12,  2.09s/it]\u001b[A\u001b[A\u001b[A\n",
      "\n",
      "\n",
      " 95%|█████████▌| 95/100 [03:18<00:10,  2.08s/it]\u001b[A\u001b[A\u001b[A\n",
      "\n",
      "\n",
      " 96%|█████████▌| 96/100 [03:20<00:08,  2.07s/it]\u001b[A\u001b[A\u001b[A\n",
      "\n",
      "\n",
      " 97%|█████████▋| 97/100 [03:23<00:06,  2.08s/it]\u001b[A\u001b[A\u001b[A\n",
      "\n",
      "\n",
      " 98%|█████████▊| 98/100 [03:25<00:04,  2.08s/it]\u001b[A\u001b[A\u001b[A\n",
      "\n",
      "\n",
      " 99%|█████████▉| 99/100 [03:27<00:02,  2.08s/it]\u001b[A\u001b[A\u001b[A\n",
      "\n",
      "\n",
      "100%|██████████| 100/100 [03:29<00:00,  2.09s/it]\u001b[A\u001b[A\u001b[A\n"
     ]
    }
   ],
   "source": [
    "cnt = 0\n",
    "for i in tqdm(range(B)):\n",
    "    h_min = get_h_uni(x, X_boots[i])\n",
    "    if h_min >= h_uni:\n",
    "        cnt += 1"
   ]
  },
  {
   "cell_type": "code",
   "execution_count": 319,
   "metadata": {},
   "outputs": [
    {
     "data": {
      "text/plain": [
       "0.1"
      ]
     },
     "execution_count": 319,
     "metadata": {},
     "output_type": "execute_result"
    }
   ],
   "source": [
    "cnt/B"
   ]
  },
  {
   "cell_type": "markdown",
   "metadata": {},
   "source": [
    "Найдем a, b, такие что 1-й и 2-й моменты эмперического и сглаженного распределений совпадают.\n",
    "\n",
    "$$X^{*} \\sim a + b(X + \\hat{h}_{uni}\\varepsilon), \\varepsilon \\sim N(0, 1)$$\n",
    "\n",
    "Из первого момента выразим a:\n",
    "$$\\frac{1}{n}\\sum{x_i} = \\frac{1}{n}\\sum(a + bh\\varepsilon_i + bx_i) \\\\ \\bar{x} = a + bh\\bar{\\varepsilon} + b\\bar{x} \\\\ \n",
    "a = \\bar{x}(1-b) - bh\\bar{\\varepsilon}$$\n",
    "\n",
    "Подставим во второй момент и выразим b:\n",
    "\n",
    "$$\\frac{1}{n}\\sum(x_i - \\bar{x})^2 = \\frac{1}{n}\\sum(a + bh\\varepsilon_i + bx_i - \\bar{x})^2 \\\\ =\\frac{1}{n}\\sum b^2[(x_i - \\bar{x}) - h(\\bar{\\varepsilon} - \\varepsilon_i)]^2 = \\\\ =\n",
    "\\frac{b^2}{n}\\sum [(x_i - \\bar{x})^2 -2h(x_i - \\bar{x})(\\bar{\\varepsilon} - \\varepsilon_i) + h^2(\\bar{\\varepsilon} - \\varepsilon_i)^2] = \n",
    "$$\n",
    "Второе слагаемое обнуляется так как $\\frac{1}{n}\\sum (x_i - \\bar{x}) = 0$\n",
    "$$ = \\frac{b^2}{n}\\sum(x_i - \\bar{x})^2 + b^2h^2\\varepsilon^{'} $$\n",
    "Отсюда\n",
    "$$ b = \\frac{1}{\\sqrt{1 + \\frac{nh^2\\varepsilon^{'}}{\\sum(x_i - \\bar{x})^2}}}$$"
   ]
  },
  {
   "cell_type": "markdown",
   "metadata": {},
   "source": [
    "Попробуем оценить вероятность по сглаженной выборке с найденными коэффициентами"
   ]
  },
  {
   "cell_type": "code",
   "execution_count": 321,
   "metadata": {},
   "outputs": [],
   "source": [
    "meanX = np.mean(X)\n",
    "b = 1 / np.sqrt(1 +  np.var(e) / np.var(X))\n",
    "a = meanX*(1 - b) - b * np.mean(e)"
   ]
  },
  {
   "cell_type": "code",
   "execution_count": 322,
   "metadata": {},
   "outputs": [],
   "source": [
    "X_boots2 = a + np.multiply(X_boots, b)"
   ]
  },
  {
   "cell_type": "code",
   "execution_count": 324,
   "metadata": {},
   "outputs": [
    {
     "name": "stderr",
     "output_type": "stream",
     "text": [
      "\n",
      "\n",
      "\n",
      "  0%|          | 0/100 [00:00<?, ?it/s]\u001b[A\u001b[A\u001b[A\n",
      "\n",
      "\n",
      "  1%|          | 1/100 [00:02<03:32,  2.15s/it]\u001b[A\u001b[A\u001b[A\n",
      "\n",
      "\n",
      "  2%|▏         | 2/100 [00:04<03:28,  2.13s/it]\u001b[A\u001b[A\u001b[A\n",
      "\n",
      "\n",
      "  3%|▎         | 3/100 [00:06<03:25,  2.12s/it]\u001b[A\u001b[A\u001b[A\n",
      "\n",
      "\n",
      "  4%|▍         | 4/100 [00:08<03:22,  2.11s/it]\u001b[A\u001b[A\u001b[A\n",
      "\n",
      "\n",
      "  5%|▌         | 5/100 [00:11<03:44,  2.36s/it]\u001b[A\u001b[A\u001b[A\n",
      "\n",
      "\n",
      "  6%|▌         | 6/100 [00:14<03:57,  2.52s/it]\u001b[A\u001b[A\u001b[A\n",
      "\n",
      "\n",
      "  7%|▋         | 7/100 [00:17<04:15,  2.75s/it]\u001b[A\u001b[A\u001b[A\n",
      "\n",
      "\n",
      "  8%|▊         | 8/100 [00:20<04:23,  2.87s/it]\u001b[A\u001b[A\u001b[A\n",
      "\n",
      "\n",
      "  9%|▉         | 9/100 [00:23<04:29,  2.96s/it]\u001b[A\u001b[A\u001b[A\n",
      "\n",
      "\n",
      " 10%|█         | 10/100 [00:25<04:02,  2.69s/it]\u001b[A\u001b[A\u001b[A\n",
      "\n",
      "\n",
      " 11%|█         | 11/100 [00:27<03:42,  2.50s/it]\u001b[A\u001b[A\u001b[A\n",
      "\n",
      "\n",
      " 12%|█▏        | 12/100 [00:30<03:28,  2.36s/it]\u001b[A\u001b[A\u001b[A\n",
      "\n",
      "\n",
      " 13%|█▎        | 13/100 [00:32<03:26,  2.37s/it]\u001b[A\u001b[A\u001b[A\n",
      "\n",
      "\n",
      " 14%|█▍        | 14/100 [00:35<03:50,  2.68s/it]\u001b[A\u001b[A\u001b[A\n",
      "\n",
      "\n",
      " 15%|█▌        | 15/100 [00:38<03:59,  2.82s/it]\u001b[A\u001b[A\u001b[A\n",
      "\n",
      "\n",
      " 16%|█▌        | 16/100 [00:42<04:18,  3.08s/it]\u001b[A\u001b[A\u001b[A\n",
      "\n",
      "\n",
      " 17%|█▋        | 17/100 [00:45<04:01,  2.91s/it]\u001b[A\u001b[A\u001b[A\n",
      "\n",
      "\n",
      " 18%|█▊        | 18/100 [00:47<03:48,  2.79s/it]\u001b[A\u001b[A\u001b[A\n",
      "\n",
      "\n",
      " 19%|█▉        | 19/100 [00:50<03:45,  2.78s/it]\u001b[A\u001b[A\u001b[A\n",
      "\n",
      "\n",
      " 20%|██        | 20/100 [00:52<03:25,  2.57s/it]\u001b[A\u001b[A\u001b[A\n",
      "\n",
      "\n",
      " 21%|██        | 21/100 [00:55<03:30,  2.66s/it]\u001b[A\u001b[A\u001b[A\n",
      "\n",
      "\n",
      " 22%|██▏       | 22/100 [00:57<03:19,  2.55s/it]\u001b[A\u001b[A\u001b[A\n",
      "\n",
      "\n",
      " 23%|██▎       | 23/100 [00:59<03:06,  2.42s/it]\u001b[A\u001b[A\u001b[A\n",
      "\n",
      "\n",
      " 24%|██▍       | 24/100 [01:01<02:56,  2.32s/it]\u001b[A\u001b[A\u001b[A\n",
      "\n",
      "\n",
      " 25%|██▌       | 25/100 [01:03<02:48,  2.25s/it]\u001b[A\u001b[A\u001b[A\n",
      "\n",
      "\n",
      " 26%|██▌       | 26/100 [01:06<02:42,  2.19s/it]\u001b[A\u001b[A\u001b[A\n",
      "\n",
      "\n",
      " 27%|██▋       | 27/100 [01:08<02:37,  2.16s/it]\u001b[A\u001b[A\u001b[A\n",
      "\n",
      "\n",
      " 28%|██▊       | 28/100 [01:10<02:33,  2.13s/it]\u001b[A\u001b[A\u001b[A\n",
      "\n",
      "\n",
      " 29%|██▉       | 29/100 [01:12<02:29,  2.11s/it]\u001b[A\u001b[A\u001b[A\n",
      "\n",
      "\n",
      " 30%|███       | 30/100 [01:14<02:27,  2.10s/it]\u001b[A\u001b[A\u001b[A\n",
      "\n",
      "\n",
      " 31%|███       | 31/100 [01:16<02:24,  2.09s/it]\u001b[A\u001b[A\u001b[A\n",
      "\n",
      "\n",
      " 32%|███▏      | 32/100 [01:18<02:21,  2.08s/it]\u001b[A\u001b[A\u001b[A\n",
      "\n",
      "\n",
      " 33%|███▎      | 33/100 [01:20<02:18,  2.07s/it]\u001b[A\u001b[A\u001b[A\n",
      "\n",
      "\n",
      " 34%|███▍      | 34/100 [01:22<02:16,  2.07s/it]\u001b[A\u001b[A\u001b[A\n",
      "\n",
      "\n",
      " 35%|███▌      | 35/100 [01:24<02:14,  2.07s/it]\u001b[A\u001b[A\u001b[A\n",
      "\n",
      "\n",
      " 36%|███▌      | 36/100 [01:26<02:17,  2.15s/it]\u001b[A\u001b[A\u001b[A\n",
      "\n",
      "\n",
      " 37%|███▋      | 37/100 [01:30<02:33,  2.44s/it]\u001b[A\u001b[A\u001b[A\n",
      "\n",
      "\n",
      " 38%|███▊      | 38/100 [01:33<02:43,  2.64s/it]\u001b[A\u001b[A\u001b[A\n",
      "\n",
      "\n",
      " 39%|███▉      | 39/100 [01:35<02:36,  2.57s/it]\u001b[A\u001b[A\u001b[A\n",
      "\n",
      "\n",
      " 40%|████      | 40/100 [01:37<02:25,  2.43s/it]\u001b[A\u001b[A\u001b[A\n",
      "\n",
      "\n",
      " 41%|████      | 41/100 [01:39<02:16,  2.32s/it]\u001b[A\u001b[A\u001b[A\n",
      "\n",
      "\n",
      " 42%|████▏     | 42/100 [01:41<02:09,  2.24s/it]\u001b[A\u001b[A\u001b[A\n",
      "\n",
      "\n",
      " 43%|████▎     | 43/100 [01:43<02:04,  2.19s/it]\u001b[A\u001b[A\u001b[A\n",
      "\n",
      "\n",
      " 44%|████▍     | 44/100 [01:45<02:00,  2.15s/it]\u001b[A\u001b[A\u001b[A\n",
      "\n",
      "\n",
      " 45%|████▌     | 45/100 [01:48<01:57,  2.13s/it]\u001b[A\u001b[A\u001b[A\n",
      "\n",
      "\n",
      " 46%|████▌     | 46/100 [01:50<01:55,  2.14s/it]\u001b[A\u001b[A\u001b[A\n",
      "\n",
      "\n",
      " 47%|████▋     | 47/100 [01:52<01:53,  2.14s/it]\u001b[A\u001b[A\u001b[A\n",
      "\n",
      "\n",
      " 48%|████▊     | 48/100 [01:54<01:50,  2.12s/it]\u001b[A\u001b[A\u001b[A\n",
      "\n",
      "\n",
      " 49%|████▉     | 49/100 [01:56<01:47,  2.11s/it]\u001b[A\u001b[A\u001b[A\n",
      "\n",
      "\n",
      " 50%|█████     | 50/100 [01:58<01:44,  2.10s/it]\u001b[A\u001b[A\u001b[A\n",
      "\n",
      "\n",
      " 51%|█████     | 51/100 [02:00<01:42,  2.10s/it]\u001b[A\u001b[A\u001b[A\n",
      "\n",
      "\n",
      " 52%|█████▏    | 52/100 [02:02<01:40,  2.10s/it]\u001b[A\u001b[A\u001b[A\n",
      "\n",
      "\n",
      " 53%|█████▎    | 53/100 [02:04<01:38,  2.09s/it]\u001b[A\u001b[A\u001b[A\n",
      "\n",
      "\n",
      " 54%|█████▍    | 54/100 [02:06<01:35,  2.09s/it]\u001b[A\u001b[A\u001b[A\n",
      "\n",
      "\n",
      " 55%|█████▌    | 55/100 [02:08<01:33,  2.08s/it]\u001b[A\u001b[A\u001b[A\n",
      "\n",
      "\n",
      " 56%|█████▌    | 56/100 [02:11<01:31,  2.08s/it]\u001b[A\u001b[A\u001b[A\n",
      "\n",
      "\n",
      " 57%|█████▋    | 57/100 [02:13<01:29,  2.08s/it]\u001b[A\u001b[A\u001b[A\n",
      "\n",
      "\n",
      " 58%|█████▊    | 58/100 [02:15<01:27,  2.08s/it]\u001b[A\u001b[A\u001b[A\n",
      "\n",
      "\n",
      " 59%|█████▉    | 59/100 [02:17<01:25,  2.08s/it]\u001b[A\u001b[A\u001b[A\n",
      "\n",
      "\n",
      " 60%|██████    | 60/100 [02:19<01:22,  2.07s/it]\u001b[A\u001b[A\u001b[A\n",
      "\n",
      "\n",
      " 61%|██████    | 61/100 [02:21<01:20,  2.07s/it]\u001b[A\u001b[A\u001b[A\n",
      "\n",
      "\n",
      " 62%|██████▏   | 62/100 [02:23<01:18,  2.07s/it]\u001b[A\u001b[A\u001b[A\n",
      "\n",
      "\n",
      " 63%|██████▎   | 63/100 [02:25<01:16,  2.07s/it]\u001b[A\u001b[A\u001b[A\n",
      "\n",
      "\n",
      " 64%|██████▍   | 64/100 [02:27<01:14,  2.07s/it]\u001b[A\u001b[A\u001b[A\n",
      "\n",
      "\n",
      " 65%|██████▌   | 65/100 [02:29<01:12,  2.07s/it]\u001b[A\u001b[A\u001b[A\n",
      "\n",
      "\n",
      " 66%|██████▌   | 66/100 [02:31<01:10,  2.07s/it]\u001b[A\u001b[A\u001b[A\n",
      "\n",
      "\n",
      " 67%|██████▋   | 67/100 [02:33<01:08,  2.08s/it]\u001b[A\u001b[A\u001b[A\n",
      "\n",
      "\n",
      " 68%|██████▊   | 68/100 [02:35<01:06,  2.07s/it]\u001b[A\u001b[A\u001b[A\n",
      "\n",
      "\n",
      " 69%|██████▉   | 69/100 [02:37<01:04,  2.07s/it]\u001b[A\u001b[A\u001b[A\n",
      "\n",
      "\n",
      " 70%|███████   | 70/100 [02:40<01:02,  2.08s/it]\u001b[A\u001b[A\u001b[A\n",
      "\n",
      "\n",
      " 71%|███████   | 71/100 [02:42<01:00,  2.08s/it]\u001b[A\u001b[A\u001b[A\n",
      "\n",
      "\n",
      " 72%|███████▏  | 72/100 [02:44<00:58,  2.07s/it]\u001b[A\u001b[A\u001b[A\n",
      "\n",
      "\n",
      " 73%|███████▎  | 73/100 [02:46<00:55,  2.07s/it]\u001b[A\u001b[A\u001b[A\n",
      "\n",
      "\n",
      " 74%|███████▍  | 74/100 [02:48<00:53,  2.07s/it]\u001b[A\u001b[A\u001b[A\n",
      "\n",
      "\n",
      " 75%|███████▌  | 75/100 [02:50<00:52,  2.11s/it]\u001b[A\u001b[A\u001b[A\n",
      "\n",
      "\n",
      " 76%|███████▌  | 76/100 [02:52<00:50,  2.10s/it]\u001b[A\u001b[A\u001b[A\n",
      "\n",
      "\n",
      " 77%|███████▋  | 77/100 [02:54<00:48,  2.09s/it]\u001b[A\u001b[A\u001b[A\n",
      "\n",
      "\n",
      " 78%|███████▊  | 78/100 [02:56<00:45,  2.09s/it]\u001b[A\u001b[A\u001b[A\n",
      "\n",
      "\n",
      " 79%|███████▉  | 79/100 [02:58<00:43,  2.08s/it]\u001b[A\u001b[A\u001b[A\n",
      "\n",
      "\n",
      " 80%|████████  | 80/100 [03:00<00:41,  2.08s/it]\u001b[A\u001b[A\u001b[A\n",
      "\n",
      "\n",
      " 81%|████████  | 81/100 [03:03<00:39,  2.08s/it]\u001b[A\u001b[A\u001b[A\n",
      "\n",
      "\n",
      " 82%|████████▏ | 82/100 [03:05<00:37,  2.08s/it]\u001b[A\u001b[A\u001b[A\n",
      "\n",
      "\n",
      " 83%|████████▎ | 83/100 [03:07<00:35,  2.07s/it]\u001b[A\u001b[A\u001b[A\n",
      "\n",
      "\n",
      " 84%|████████▍ | 84/100 [03:09<00:33,  2.07s/it]\u001b[A\u001b[A\u001b[A\n",
      "\n",
      "\n",
      " 85%|████████▌ | 85/100 [03:11<00:30,  2.06s/it]\u001b[A\u001b[A\u001b[A\n",
      "\n",
      "\n",
      " 86%|████████▌ | 86/100 [03:13<00:28,  2.07s/it]\u001b[A\u001b[A\u001b[A\n",
      "\n",
      "\n",
      " 87%|████████▋ | 87/100 [03:15<00:26,  2.07s/it]\u001b[A\u001b[A\u001b[A\n",
      "\n",
      "\n",
      " 88%|████████▊ | 88/100 [03:17<00:24,  2.07s/it]\u001b[A\u001b[A\u001b[A\n",
      "\n",
      "\n",
      " 89%|████████▉ | 89/100 [03:19<00:22,  2.07s/it]\u001b[A\u001b[A\u001b[A\n",
      "\n",
      "\n",
      " 90%|█████████ | 90/100 [03:21<00:20,  2.08s/it]\u001b[A\u001b[A\u001b[A\n",
      "\n",
      "\n",
      " 91%|█████████ | 91/100 [03:23<00:18,  2.08s/it]\u001b[A\u001b[A\u001b[A\n",
      "\n",
      "\n",
      " 92%|█████████▏| 92/100 [03:25<00:16,  2.08s/it]\u001b[A\u001b[A\u001b[A\n",
      "\n",
      "\n",
      " 93%|█████████▎| 93/100 [03:27<00:14,  2.08s/it]\u001b[A\u001b[A\u001b[A\n",
      "\n",
      "\n",
      " 94%|█████████▍| 94/100 [03:29<00:12,  2.08s/it]\u001b[A\u001b[A\u001b[A\n",
      "\n",
      "\n",
      " 95%|█████████▌| 95/100 [03:32<00:10,  2.08s/it]\u001b[A\u001b[A\u001b[A\n",
      "\n",
      "\n",
      " 96%|█████████▌| 96/100 [03:34<00:08,  2.08s/it]\u001b[A\u001b[A\u001b[A\n",
      "\n",
      "\n",
      " 97%|█████████▋| 97/100 [03:36<00:06,  2.08s/it]\u001b[A\u001b[A\u001b[A\n",
      "\n",
      "\n",
      " 98%|█████████▊| 98/100 [03:38<00:04,  2.08s/it]\u001b[A\u001b[A\u001b[A\n",
      "\n",
      "\n",
      " 99%|█████████▉| 99/100 [03:40<00:02,  2.08s/it]\u001b[A\u001b[A\u001b[A\n",
      "\n",
      "\n",
      "100%|██████████| 100/100 [03:42<00:00,  2.22s/it]\u001b[A\u001b[A\u001b[A\n"
     ]
    }
   ],
   "source": [
    "cnt2 = 0\n",
    "for i in tqdm(range(B)):\n",
    "    h_min = get_h_uni(x, X_boots2[i])\n",
    "    if h_min >= h_uni:\n",
    "        cnt2 += 1"
   ]
  },
  {
   "cell_type": "code",
   "execution_count": 325,
   "metadata": {},
   "outputs": [
    {
     "data": {
      "text/plain": [
       "0.02"
      ]
     },
     "execution_count": 325,
     "metadata": {},
     "output_type": "execute_result"
    }
   ],
   "source": [
    "cnt2 / B"
   ]
  },
  {
   "cell_type": "markdown",
   "metadata": {},
   "source": [
    "(c).\n",
    "Как я поняла, здесь нужно сэмплировать не из сглаженной выборки, как в предыдущем пункте, а из изначальной."
   ]
  },
  {
   "cell_type": "code",
   "execution_count": 326,
   "metadata": {
    "scrolled": true
   },
   "outputs": [
    {
     "name": "stderr",
     "output_type": "stream",
     "text": [
      "\n",
      "\n",
      "\n",
      "  0%|          | 0/100 [00:00<?, ?it/s]\u001b[A\u001b[A\u001b[A\n",
      "\n",
      "\n",
      "  1%|          | 1/100 [00:03<05:24,  3.28s/it]\u001b[A\u001b[A\u001b[A\n",
      "\n",
      "\n",
      "  2%|▏         | 2/100 [00:05<04:53,  2.99s/it]\u001b[A\u001b[A\u001b[A\n",
      "\n",
      "\n",
      "  3%|▎         | 3/100 [00:07<04:27,  2.75s/it]\u001b[A\u001b[A\u001b[A\n",
      "\n",
      "\n",
      "  4%|▍         | 4/100 [00:10<04:09,  2.60s/it]\u001b[A\u001b[A\u001b[A\n",
      "\n",
      "\n",
      "  5%|▌         | 5/100 [00:12<03:54,  2.47s/it]\u001b[A\u001b[A\u001b[A\n",
      "\n",
      "\n",
      "  6%|▌         | 6/100 [00:14<03:42,  2.37s/it]\u001b[A\u001b[A\u001b[A\n",
      "\n",
      "\n",
      "  7%|▋         | 7/100 [00:16<03:33,  2.30s/it]\u001b[A\u001b[A\u001b[A\n",
      "\n",
      "\n",
      "  8%|▊         | 8/100 [00:18<03:28,  2.27s/it]\u001b[A\u001b[A\u001b[A\n",
      "\n",
      "\n",
      "  9%|▉         | 9/100 [00:20<03:23,  2.24s/it]\u001b[A\u001b[A\u001b[A\n",
      "\n",
      "\n",
      " 10%|█         | 10/100 [00:23<03:20,  2.22s/it]\u001b[A\u001b[A\u001b[A\n",
      "\n",
      "\n",
      " 11%|█         | 11/100 [00:25<03:17,  2.22s/it]\u001b[A\u001b[A\u001b[A\n",
      "\n",
      "\n",
      " 12%|█▏        | 12/100 [00:27<03:15,  2.22s/it]\u001b[A\u001b[A\u001b[A\n",
      "\n",
      "\n",
      " 13%|█▎        | 13/100 [00:29<03:13,  2.22s/it]\u001b[A\u001b[A\u001b[A\n",
      "\n",
      "\n",
      " 14%|█▍        | 14/100 [00:31<03:11,  2.23s/it]\u001b[A\u001b[A\u001b[A\n",
      "\n",
      "\n",
      " 15%|█▌        | 15/100 [00:34<03:08,  2.22s/it]\u001b[A\u001b[A\u001b[A\n",
      "\n",
      "\n",
      " 16%|█▌        | 16/100 [00:36<03:17,  2.35s/it]\u001b[A\u001b[A\u001b[A\n",
      "\n",
      "\n",
      " 17%|█▋        | 17/100 [00:38<03:10,  2.29s/it]\u001b[A\u001b[A\u001b[A\n",
      "\n",
      "\n",
      " 18%|█▊        | 18/100 [00:41<03:05,  2.26s/it]\u001b[A\u001b[A\u001b[A\n",
      "\n",
      "\n",
      " 19%|█▉        | 19/100 [00:43<03:01,  2.24s/it]\u001b[A\u001b[A\u001b[A\n",
      "\n",
      "\n",
      " 20%|██        | 20/100 [00:45<02:57,  2.22s/it]\u001b[A\u001b[A\u001b[A\n",
      "\n",
      "\n",
      " 21%|██        | 21/100 [00:47<02:55,  2.22s/it]\u001b[A\u001b[A\u001b[A\n",
      "\n",
      "\n",
      " 22%|██▏       | 22/100 [00:49<02:53,  2.22s/it]\u001b[A\u001b[A\u001b[A\n",
      "\n",
      "\n",
      " 23%|██▎       | 23/100 [00:52<02:52,  2.24s/it]\u001b[A\u001b[A\u001b[A\n",
      "\n",
      "\n",
      " 24%|██▍       | 24/100 [00:54<02:59,  2.36s/it]\u001b[A\u001b[A\u001b[A\n",
      "\n",
      "\n",
      " 25%|██▌       | 25/100 [00:58<03:17,  2.63s/it]\u001b[A\u001b[A\u001b[A\n",
      "\n",
      "\n",
      " 26%|██▌       | 26/100 [01:01<03:25,  2.78s/it]\u001b[A\u001b[A\u001b[A\n",
      "\n",
      "\n",
      " 27%|██▋       | 27/100 [01:04<03:28,  2.86s/it]\u001b[A\u001b[A\u001b[A\n",
      "\n",
      "\n",
      " 28%|██▊       | 28/100 [01:06<03:16,  2.73s/it]\u001b[A\u001b[A\u001b[A\n",
      "\n",
      "\n",
      " 29%|██▉       | 29/100 [01:09<03:12,  2.71s/it]\u001b[A\u001b[A\u001b[A\n",
      "\n",
      "\n",
      " 30%|███       | 30/100 [01:11<03:00,  2.57s/it]\u001b[A\u001b[A\u001b[A\n",
      "\n",
      "\n",
      " 31%|███       | 31/100 [01:13<02:49,  2.45s/it]\u001b[A\u001b[A\u001b[A\n",
      "\n",
      "\n",
      " 32%|███▏      | 32/100 [01:16<02:49,  2.49s/it]\u001b[A\u001b[A\u001b[A\n",
      "\n",
      "\n",
      " 33%|███▎      | 33/100 [01:19<02:56,  2.63s/it]\u001b[A\u001b[A\u001b[A\n",
      "\n",
      "\n",
      " 34%|███▍      | 34/100 [01:21<02:49,  2.57s/it]\u001b[A\u001b[A\u001b[A\n",
      "\n",
      "\n",
      " 35%|███▌      | 35/100 [01:24<02:54,  2.69s/it]\u001b[A\u001b[A\u001b[A\n",
      "\n",
      "\n",
      " 36%|███▌      | 36/100 [01:27<02:56,  2.76s/it]\u001b[A\u001b[A\u001b[A\n",
      "\n",
      "\n",
      " 37%|███▋      | 37/100 [01:30<02:54,  2.76s/it]\u001b[A\u001b[A\u001b[A\n",
      "\n",
      "\n",
      " 38%|███▊      | 38/100 [01:32<02:45,  2.66s/it]\u001b[A\u001b[A\u001b[A\n",
      "\n",
      "\n",
      " 39%|███▉      | 39/100 [01:35<02:33,  2.52s/it]\u001b[A\u001b[A\u001b[A\n",
      "\n",
      "\n",
      " 40%|████      | 40/100 [01:37<02:25,  2.43s/it]\u001b[A\u001b[A\u001b[A\n",
      "\n",
      "\n",
      " 41%|████      | 41/100 [01:39<02:17,  2.33s/it]\u001b[A\u001b[A\u001b[A\n",
      "\n",
      "\n",
      " 42%|████▏     | 42/100 [01:41<02:10,  2.26s/it]\u001b[A\u001b[A\u001b[A\n",
      "\n",
      "\n",
      " 43%|████▎     | 43/100 [01:43<02:05,  2.21s/it]\u001b[A\u001b[A\u001b[A\n",
      "\n",
      "\n",
      " 44%|████▍     | 44/100 [01:45<02:01,  2.17s/it]\u001b[A\u001b[A\u001b[A\n",
      "\n",
      "\n",
      " 45%|████▌     | 45/100 [01:47<01:57,  2.14s/it]\u001b[A\u001b[A\u001b[A\n",
      "\n",
      "\n",
      " 46%|████▌     | 46/100 [01:50<02:09,  2.40s/it]\u001b[A\u001b[A\u001b[A\n",
      "\n",
      "\n",
      " 47%|████▋     | 47/100 [01:53<02:14,  2.54s/it]\u001b[A\u001b[A\u001b[A\n",
      "\n",
      "\n",
      " 48%|████▊     | 48/100 [01:56<02:25,  2.80s/it]\u001b[A\u001b[A\u001b[A\n",
      "\n",
      "\n",
      " 49%|████▉     | 49/100 [01:59<02:13,  2.62s/it]\u001b[A\u001b[A\u001b[A\n",
      "\n",
      "\n",
      " 50%|█████     | 50/100 [02:02<02:24,  2.89s/it]\u001b[A\u001b[A\u001b[A\n",
      "\n",
      "\n",
      " 51%|█████     | 51/100 [02:04<02:11,  2.68s/it]\u001b[A\u001b[A\u001b[A\n",
      "\n",
      "\n",
      " 52%|█████▏    | 52/100 [02:08<02:20,  2.92s/it]\u001b[A\u001b[A\u001b[A\n",
      "\n",
      "\n",
      " 53%|█████▎    | 53/100 [02:10<02:12,  2.82s/it]\u001b[A\u001b[A\u001b[A\n",
      "\n",
      "\n",
      " 54%|█████▍    | 54/100 [02:13<02:08,  2.80s/it]\u001b[A\u001b[A\u001b[A\n",
      "\n",
      "\n",
      " 55%|█████▌    | 55/100 [02:15<01:57,  2.60s/it]\u001b[A\u001b[A\u001b[A\n",
      "\n",
      "\n",
      " 56%|█████▌    | 56/100 [02:18<01:49,  2.50s/it]\u001b[A\u001b[A\u001b[A\n",
      "\n",
      "\n",
      " 57%|█████▋    | 57/100 [02:21<01:53,  2.63s/it]\u001b[A\u001b[A\u001b[A\n",
      "\n",
      "\n",
      " 58%|█████▊    | 58/100 [02:23<01:45,  2.51s/it]\u001b[A\u001b[A\u001b[A\n",
      "\n",
      "\n",
      " 59%|█████▉    | 59/100 [02:25<01:39,  2.43s/it]\u001b[A\u001b[A\u001b[A\n",
      "\n",
      "\n",
      " 60%|██████    | 60/100 [02:27<01:35,  2.38s/it]\u001b[A\u001b[A\u001b[A\n",
      "\n",
      "\n",
      " 61%|██████    | 61/100 [02:30<01:34,  2.41s/it]\u001b[A\u001b[A\u001b[A\n",
      "\n",
      "\n",
      " 62%|██████▏   | 62/100 [02:32<01:33,  2.45s/it]\u001b[A\u001b[A\u001b[A\n",
      "\n",
      "\n",
      " 63%|██████▎   | 63/100 [02:35<01:29,  2.42s/it]\u001b[A\u001b[A\u001b[A\n",
      "\n",
      "\n",
      " 64%|██████▍   | 64/100 [02:38<01:35,  2.64s/it]\u001b[A\u001b[A\u001b[A\n",
      "\n",
      "\n",
      " 65%|██████▌   | 65/100 [02:41<01:41,  2.90s/it]\u001b[A\u001b[A\u001b[A\n",
      "\n",
      "\n",
      " 66%|██████▌   | 66/100 [02:44<01:34,  2.77s/it]\u001b[A\u001b[A\u001b[A\n",
      "\n",
      "\n",
      " 67%|██████▋   | 67/100 [02:46<01:28,  2.67s/it]\u001b[A\u001b[A\u001b[A\n",
      "\n",
      "\n",
      " 68%|██████▊   | 68/100 [02:49<01:28,  2.76s/it]\u001b[A\u001b[A\u001b[A\n",
      "\n",
      "\n",
      " 69%|██████▉   | 69/100 [02:51<01:21,  2.62s/it]\u001b[A\u001b[A\u001b[A\n",
      "\n",
      "\n",
      " 70%|███████   | 70/100 [02:54<01:13,  2.46s/it]\u001b[A\u001b[A\u001b[A\n",
      "\n",
      "\n",
      " 71%|███████   | 71/100 [02:56<01:08,  2.35s/it]\u001b[A\u001b[A\u001b[A\n",
      "\n",
      "\n",
      " 72%|███████▏  | 72/100 [02:58<01:05,  2.34s/it]\u001b[A\u001b[A\u001b[A\n",
      "\n",
      "\n",
      " 73%|███████▎  | 73/100 [03:00<01:01,  2.29s/it]\u001b[A\u001b[A\u001b[A\n",
      "\n",
      "\n",
      " 74%|███████▍  | 74/100 [03:03<00:59,  2.31s/it]\u001b[A\u001b[A\u001b[A\n",
      "\n",
      "\n",
      " 75%|███████▌  | 75/100 [03:05<00:56,  2.24s/it]\u001b[A\u001b[A\u001b[A\n",
      "\n",
      "\n",
      " 76%|███████▌  | 76/100 [03:07<00:53,  2.21s/it]\u001b[A\u001b[A\u001b[A\n",
      "\n",
      "\n",
      " 77%|███████▋  | 77/100 [03:09<00:51,  2.24s/it]\u001b[A\u001b[A\u001b[A\n",
      "\n",
      "\n",
      " 78%|███████▊  | 78/100 [03:12<00:52,  2.39s/it]\u001b[A\u001b[A\u001b[A\n",
      "\n",
      "\n",
      " 79%|███████▉  | 79/100 [03:14<00:48,  2.30s/it]\u001b[A\u001b[A\u001b[A\n",
      "\n",
      "\n",
      " 80%|████████  | 80/100 [03:16<00:44,  2.24s/it]\u001b[A\u001b[A\u001b[A\n",
      "\n",
      "\n",
      " 81%|████████  | 81/100 [03:18<00:42,  2.25s/it]\u001b[A\u001b[A\u001b[A\n",
      "\n",
      "\n",
      " 82%|████████▏ | 82/100 [03:20<00:40,  2.24s/it]\u001b[A\u001b[A\u001b[A\n",
      "\n",
      "\n",
      " 83%|████████▎ | 83/100 [03:23<00:37,  2.19s/it]\u001b[A\u001b[A\u001b[A\n",
      "\n",
      "\n",
      " 84%|████████▍ | 84/100 [03:25<00:34,  2.16s/it]\u001b[A\u001b[A\u001b[A\n",
      "\n",
      "\n",
      " 85%|████████▌ | 85/100 [03:27<00:33,  2.23s/it]\u001b[A\u001b[A\u001b[A\n",
      "\n",
      "\n",
      " 86%|████████▌ | 86/100 [03:29<00:31,  2.27s/it]\u001b[A\u001b[A\u001b[A\n",
      "\n",
      "\n",
      " 87%|████████▋ | 87/100 [03:33<00:33,  2.55s/it]\u001b[A\u001b[A\u001b[A\n",
      "\n",
      "\n",
      " 88%|████████▊ | 88/100 [03:35<00:30,  2.54s/it]\u001b[A\u001b[A\u001b[A\n",
      "\n",
      "\n",
      " 89%|████████▉ | 89/100 [03:37<00:26,  2.44s/it]\u001b[A\u001b[A\u001b[A\n",
      "\n",
      "\n",
      " 90%|█████████ | 90/100 [03:40<00:24,  2.48s/it]\u001b[A\u001b[A\u001b[A\n",
      "\n",
      "\n",
      " 91%|█████████ | 91/100 [03:42<00:22,  2.46s/it]\u001b[A\u001b[A\u001b[A\n",
      "\n",
      "\n",
      " 92%|█████████▏| 92/100 [03:44<00:18,  2.35s/it]\u001b[A\u001b[A\u001b[A\n",
      "\n",
      "\n",
      " 93%|█████████▎| 93/100 [03:46<00:15,  2.27s/it]\u001b[A\u001b[A\u001b[A\n",
      "\n",
      "\n",
      " 94%|█████████▍| 94/100 [03:49<00:13,  2.22s/it]\u001b[A\u001b[A\u001b[A\n",
      "\n",
      "\n",
      " 95%|█████████▌| 95/100 [03:51<00:10,  2.17s/it]\u001b[A\u001b[A\u001b[A\n",
      "\n",
      "\n",
      " 96%|█████████▌| 96/100 [03:53<00:08,  2.15s/it]\u001b[A\u001b[A\u001b[A\n",
      "\n",
      "\n",
      " 97%|█████████▋| 97/100 [03:55<00:06,  2.13s/it]\u001b[A\u001b[A\u001b[A\n",
      "\n",
      "\n",
      " 98%|█████████▊| 98/100 [03:57<00:04,  2.12s/it]\u001b[A\u001b[A\u001b[A\n",
      "\n",
      "\n",
      " 99%|█████████▉| 99/100 [03:59<00:02,  2.11s/it]\u001b[A\u001b[A\u001b[A\n",
      "\n",
      "\n",
      "100%|██████████| 100/100 [04:01<00:00,  2.42s/it]\u001b[A\u001b[A\u001b[A\n"
     ]
    }
   ],
   "source": [
    "X_boots3 = np.random.choice(X, (B, N), replace=True)\n",
    "\n",
    "cnt3 = 0\n",
    "for i in tqdm(range(B)):\n",
    "    h_min = get_h_uni(x, X_boots3[i])\n",
    "    if h_min >= h_uni:\n",
    "        cnt3 += 1"
   ]
  },
  {
   "cell_type": "code",
   "execution_count": 328,
   "metadata": {},
   "outputs": [
    {
     "data": {
      "text/plain": [
       "0.55"
      ]
     },
     "execution_count": 328,
     "metadata": {},
     "output_type": "execute_result"
    }
   ],
   "source": [
    "cnt3 / B"
   ]
  },
  {
   "cell_type": "markdown",
   "metadata": {},
   "source": [
    "## Задание 5"
   ]
  },
  {
   "cell_type": "code",
   "execution_count": 234,
   "metadata": {},
   "outputs": [],
   "source": [
    "cd4 = pd.read_csv('cd4.csv')"
   ]
  },
  {
   "cell_type": "code",
   "execution_count": 235,
   "metadata": {},
   "outputs": [],
   "source": [
    "cd4.drop(cd4.columns.values[0], axis=1, inplace=True)"
   ]
  },
  {
   "cell_type": "code",
   "execution_count": 236,
   "metadata": {},
   "outputs": [
    {
     "data": {
      "text/html": [
       "<div>\n",
       "<style scoped>\n",
       "    .dataframe tbody tr th:only-of-type {\n",
       "        vertical-align: middle;\n",
       "    }\n",
       "\n",
       "    .dataframe tbody tr th {\n",
       "        vertical-align: top;\n",
       "    }\n",
       "\n",
       "    .dataframe thead th {\n",
       "        text-align: right;\n",
       "    }\n",
       "</style>\n",
       "<table border=\"1\" class=\"dataframe\">\n",
       "  <thead>\n",
       "    <tr style=\"text-align: right;\">\n",
       "      <th></th>\n",
       "      <th>baseline</th>\n",
       "      <th>oneyear</th>\n",
       "    </tr>\n",
       "  </thead>\n",
       "  <tbody>\n",
       "    <tr>\n",
       "      <td>0</td>\n",
       "      <td>2.12</td>\n",
       "      <td>2.47</td>\n",
       "    </tr>\n",
       "    <tr>\n",
       "      <td>1</td>\n",
       "      <td>4.35</td>\n",
       "      <td>4.61</td>\n",
       "    </tr>\n",
       "    <tr>\n",
       "      <td>2</td>\n",
       "      <td>3.39</td>\n",
       "      <td>5.26</td>\n",
       "    </tr>\n",
       "    <tr>\n",
       "      <td>3</td>\n",
       "      <td>2.51</td>\n",
       "      <td>3.02</td>\n",
       "    </tr>\n",
       "    <tr>\n",
       "      <td>4</td>\n",
       "      <td>4.04</td>\n",
       "      <td>6.36</td>\n",
       "    </tr>\n",
       "    <tr>\n",
       "      <td>5</td>\n",
       "      <td>5.10</td>\n",
       "      <td>5.93</td>\n",
       "    </tr>\n",
       "    <tr>\n",
       "      <td>6</td>\n",
       "      <td>3.77</td>\n",
       "      <td>3.93</td>\n",
       "    </tr>\n",
       "    <tr>\n",
       "      <td>7</td>\n",
       "      <td>3.35</td>\n",
       "      <td>4.09</td>\n",
       "    </tr>\n",
       "    <tr>\n",
       "      <td>8</td>\n",
       "      <td>4.10</td>\n",
       "      <td>4.88</td>\n",
       "    </tr>\n",
       "    <tr>\n",
       "      <td>9</td>\n",
       "      <td>3.35</td>\n",
       "      <td>3.81</td>\n",
       "    </tr>\n",
       "    <tr>\n",
       "      <td>10</td>\n",
       "      <td>4.15</td>\n",
       "      <td>4.74</td>\n",
       "    </tr>\n",
       "    <tr>\n",
       "      <td>11</td>\n",
       "      <td>3.56</td>\n",
       "      <td>3.29</td>\n",
       "    </tr>\n",
       "    <tr>\n",
       "      <td>12</td>\n",
       "      <td>3.39</td>\n",
       "      <td>5.55</td>\n",
       "    </tr>\n",
       "    <tr>\n",
       "      <td>13</td>\n",
       "      <td>1.88</td>\n",
       "      <td>2.82</td>\n",
       "    </tr>\n",
       "    <tr>\n",
       "      <td>14</td>\n",
       "      <td>2.56</td>\n",
       "      <td>4.23</td>\n",
       "    </tr>\n",
       "    <tr>\n",
       "      <td>15</td>\n",
       "      <td>2.96</td>\n",
       "      <td>3.23</td>\n",
       "    </tr>\n",
       "    <tr>\n",
       "      <td>16</td>\n",
       "      <td>2.49</td>\n",
       "      <td>2.56</td>\n",
       "    </tr>\n",
       "    <tr>\n",
       "      <td>17</td>\n",
       "      <td>3.03</td>\n",
       "      <td>4.31</td>\n",
       "    </tr>\n",
       "    <tr>\n",
       "      <td>18</td>\n",
       "      <td>2.66</td>\n",
       "      <td>4.37</td>\n",
       "    </tr>\n",
       "    <tr>\n",
       "      <td>19</td>\n",
       "      <td>3.00</td>\n",
       "      <td>2.40</td>\n",
       "    </tr>\n",
       "  </tbody>\n",
       "</table>\n",
       "</div>"
      ],
      "text/plain": [
       "    baseline  oneyear\n",
       "0       2.12     2.47\n",
       "1       4.35     4.61\n",
       "2       3.39     5.26\n",
       "3       2.51     3.02\n",
       "4       4.04     6.36\n",
       "5       5.10     5.93\n",
       "6       3.77     3.93\n",
       "7       3.35     4.09\n",
       "8       4.10     4.88\n",
       "9       3.35     3.81\n",
       "10      4.15     4.74\n",
       "11      3.56     3.29\n",
       "12      3.39     5.55\n",
       "13      1.88     2.82\n",
       "14      2.56     4.23\n",
       "15      2.96     3.23\n",
       "16      2.49     2.56\n",
       "17      3.03     4.31\n",
       "18      2.66     4.37\n",
       "19      3.00     2.40"
      ]
     },
     "execution_count": 236,
     "metadata": {},
     "output_type": "execute_result"
    }
   ],
   "source": [
    "cd4"
   ]
  },
  {
   "cell_type": "code",
   "execution_count": 237,
   "metadata": {},
   "outputs": [
    {
     "data": {
      "text/plain": [
       "0.72316536789203"
      ]
     },
     "execution_count": 237,
     "metadata": {},
     "output_type": "execute_result"
    }
   ],
   "source": [
    "from sklearn.utils import resample\n",
    "\n",
    "x = cd4['baseline'].values\n",
    "y = cd4['oneyear'].values\n",
    "\n",
    "R, _ = scipy.stats.pearsonr(x, y)\n",
    "R"
   ]
  },
  {
   "cell_type": "markdown",
   "metadata": {},
   "source": [
    "(a)."
   ]
  },
  {
   "cell_type": "code",
   "execution_count": 238,
   "metadata": {},
   "outputs": [],
   "source": [
    "def percentile_confidence_interval(X, q=5):\n",
    "    return np.percentile(X, q=q / 2), np.percentile(X, q=100 - q / 2)"
   ]
  },
  {
   "cell_type": "code",
   "execution_count": 239,
   "metadata": {},
   "outputs": [],
   "source": [
    "B = 1000\n",
    "N = len(x)\n",
    "\n",
    "X_boots = []\n",
    "Y_boots = []\n",
    "\n",
    "t_boots = []\n",
    "r_boots = []\n",
    "\n",
    "for i in range(B):\n",
    "    res = resample(cd4.values)\n",
    "    x_boots, y_boots = res[:,0], res[:,1]\n",
    "    \n",
    "    r, _ = scipy.stats.pearsonr(x_boots, y_boots)\n",
    "    sigma_boots = ((1 - r**2) / (N-2)) ** 0.5\n",
    "    \n",
    "    t_boots.append((r - R) / sigma_boots)\n",
    "    r_boots.append(r)\n",
    "    X_boots.append(x_boots)\n",
    "    Y_boots.append(y_boots)"
   ]
  },
  {
   "cell_type": "code",
   "execution_count": 240,
   "metadata": {},
   "outputs": [],
   "source": [
    "sigmaT = ((1 - R**2) / (N-2)) ** 0.5"
   ]
  },
  {
   "cell_type": "code",
   "execution_count": 241,
   "metadata": {},
   "outputs": [],
   "source": [
    "def plot_cis(r_boots, t_boots, sigma, R):\n",
    "    fig, ax = plt.subplots(nrows=1, ncols=4, figsize=(12, 3))\n",
    "\n",
    "    # Normal CI\n",
    "    z_025 = scipy.stats.norm.ppf(0.025)\n",
    "\n",
    "    norm_up, norm_low = R - z_025 * sigma, R + z_025 * sigma\n",
    "\n",
    "    ax[0].hist(r_boots, bins=100)\n",
    "    ax[0].axvline(x=R, linewidth=2, color='r', label='true value')\n",
    "    ax[0].axvline(x=norm_low, linewidth=1, color='g', linestyle='-')\n",
    "    ax[0].axvline(x=norm_up, linewidth=1, color='g', linestyle='-', label='normal interval')\n",
    "    ax[0].set_title('Normal CI')\n",
    "    ax[0].legend()\n",
    "\n",
    "    # Percentile CI\n",
    "    low_r, high_r = percentile_confidence_interval(r_boots)\n",
    "\n",
    "    ax[1].hist(r_boots, bins=100)\n",
    "    ax[1].axvline(x=R, linewidth=2, color='r', label='true value')\n",
    "    ax[1].axvline(x=low_r, linewidth=1, color='g', linestyle='-')\n",
    "    ax[1].axvline(x=high_r, linewidth=1, color='g', linestyle='-', label='percentile interval')\n",
    "    ax[1].set_title('Percentile CI')\n",
    "    ax[1].legend()\n",
    "\n",
    "    # Central CI\n",
    "    cent_up, cent_low = 2 * R - low_r, 2 * R - high_r\n",
    "\n",
    "    ax[2].hist(r_boots, bins=100)\n",
    "    ax[2].axvline(x=R, linewidth=2, color='r', label='true value')\n",
    "    ax[2].axvline(x= cent_low, linewidth=1, color='g', linestyle='-')\n",
    "    ax[2].axvline(x= cent_up, linewidth=1, color='g', linestyle='-', label='central interval')\n",
    "    ax[2].set_title('Central CI')\n",
    "    ax[2].legend()\n",
    "\n",
    "    # t-Bootstrap CI\n",
    "    low_t, high_t = percentile_confidence_interval(t_boots)\n",
    "\n",
    "    t_up, t_low = R - low_t * sigma, R - high_t * sigma\n",
    "\n",
    "    ax[3].hist(r_boots, bins=100)\n",
    "    ax[3].axvline(x=R, linewidth=2, color='r', label='true value')\n",
    "    ax[3].axvline(x=t_low, linewidth=1, color='g', linestyle='-')\n",
    "    ax[3].axvline(x=t_up, linewidth=1, color='g', linestyle='-', label='t_bootstrap interval')\n",
    "    ax[3].set_title('t_bootstrap CI')\n",
    "\n",
    "    plt.tight_layout()\n",
    "    plt.legend()\n",
    "    plt.show()"
   ]
  },
  {
   "cell_type": "code",
   "execution_count": 242,
   "metadata": {},
   "outputs": [
    {
     "data": {
      "image/png": "[encoded data removed]",
      "text/plain": [
       "<Figure size 864x216 with 4 Axes>"
      ]
     },
     "metadata": {
      "needs_background": "light"
     },
     "output_type": "display_data"
    }
   ],
   "source": [
    "plot_cis(r_boots, t_boots, np.std(r_boots), R)"
   ]
  },
  {
   "cell_type": "code",
   "execution_count": 243,
   "metadata": {},
   "outputs": [],
   "source": [
    "def normalizeR(r):\n",
    "    return 0.5 * np.log((1 + r) / (1 - r))\n",
    "\n",
    "normR = normalizeR(R)\n",
    "norm_r_boots = np.array(list(map(normalizeR, r_boots)))\n",
    "sigma_boots = 1 / (N - 3)**0.5\n",
    "norm_t = (norm_r_boots - normR) / sigma_boots"
   ]
  },
  {
   "cell_type": "markdown",
   "metadata": {},
   "source": [
    "Для нормализованных значений."
   ]
  },
  {
   "cell_type": "code",
   "execution_count": 244,
   "metadata": {},
   "outputs": [
    {
     "data": {
      "image/png": "[encoded data removed]",
      "text/plain": [
       "<Figure size 864x216 with 4 Axes>"
      ]
     },
     "metadata": {
      "needs_background": "light"
     },
     "output_type": "display_data"
    }
   ],
   "source": [
    "plot_cis(norm_r_boots, norm_t, np.std(norm_r_boots), normR)"
   ]
  },
  {
   "cell_type": "code",
   "execution_count": 245,
   "metadata": {},
   "outputs": [],
   "source": [
    "def conv_back(r):\n",
    "    t = np.exp(2 * r)\n",
    "    return (t - 1) / (t + 1)"
   ]
  },
  {
   "cell_type": "code",
   "execution_count": 246,
   "metadata": {},
   "outputs": [
    {
     "data": {
      "image/png": "[encoded data removed]",
      "text/plain": [
       "<Figure size 864x216 with 4 Axes>"
      ]
     },
     "metadata": {
      "needs_background": "light"
     },
     "output_type": "display_data"
    }
   ],
   "source": [
    "fig, ax = plt.subplots(nrows=1, ncols=4, figsize=(12, 3))\n",
    "\n",
    "# Normal CI\n",
    "z_025 = scipy.stats.norm.ppf(0.025)\n",
    "\n",
    "norm0,norm1 = normR - z_025 * np.std(norm_r_boots), normR + z_025 * np.std(norm_r_boots)\n",
    "norm0, norm1 = conv_back(norm0), conv_back(norm1)\n",
    "\n",
    "ax[0].hist(r_boots, bins=100)\n",
    "ax[0].axvline(x=R, linewidth=2, color='r', label='true value')\n",
    "ax[0].axvline(x=norm0, linewidth=1, color='g', linestyle='-')\n",
    "ax[0].axvline(x=norm1, linewidth=1, color='g', linestyle='-', label='normal interval')\n",
    "ax[0].set_title('Normal CI')\n",
    "ax[0].legend()\n",
    "\n",
    "# Percentile CI\n",
    "low_r, high_r = percentile_confidence_interval(norm_r_boots)\n",
    "low_r, high_r = conv_back(low_r), conv_back(high_r)\n",
    "ax[1].hist(r_boots, bins=100)\n",
    "ax[1].axvline(x=R, linewidth=2, color='r', label='true value')\n",
    "ax[1].axvline(x=low_r, linewidth=1, color='g', linestyle='-')\n",
    "ax[1].axvline(x=high_r, linewidth=1, color='g', linestyle='-', label='percentile interval')\n",
    "ax[1].set_title('Percentile CI')\n",
    "ax[1].legend()\n",
    "\n",
    "# Central CI\n",
    "\n",
    "cent0, cent1 = 2 * normR - low_r, 2 * normR - high_r\n",
    "cent0, cent1 = conv_back(cent0), conv_back(cent1)\n",
    "\n",
    "ax[2].hist(r_boots, bins=100)\n",
    "ax[2].axvline(x=R, linewidth=2, color='r', label='true value')\n",
    "ax[2].axvline(x=cent0, linewidth=1, color='g', linestyle='-')\n",
    "ax[2].axvline(x=cent1, linewidth=1, color='g', linestyle='-', label='central interval')\n",
    "ax[2].set_title('Central CI')\n",
    "ax[2].legend()\n",
    "\n",
    "# t-Bootstrap CI\n",
    "low_t, high_t = percentile_confidence_interval(norm_t)\n",
    "t0, t1 = normR - low_t * np.std(norm_r_boots), normR - high_t * np.std(norm_r_boots)\n",
    "t0, t1 = conv_back(t0), conv_back(t1)\n",
    "ax[3].hist(r_boots, bins=100)\n",
    "ax[3].axvline(x=R, linewidth=2, color='r', label='true value')\n",
    "ax[3].axvline(x=t0, linewidth=1, color='g', linestyle='-')\n",
    "ax[3].axvline(x=t1, linewidth=1, color='g', linestyle='-', label='t_bootstrap interval')\n",
    "ax[3].set_title('t_bootstrap CI')\n",
    "\n",
    "plt.tight_layout()\n",
    "plt.legend()\n",
    "plt.show()"
   ]
  },
  {
   "cell_type": "markdown",
   "metadata": {},
   "source": [
    "(b).\n",
    "\n",
    "Над каждой из бутстрапных выборок сделаем бутстрап и посчитаем $\\theta_j^{**}$"
   ]
  },
  {
   "cell_type": "code",
   "execution_count": 247,
   "metadata": {},
   "outputs": [],
   "source": [
    "C = 100\n",
    "var = []\n",
    "norm_var = []\n",
    "\n",
    "for i in range(B):\n",
    "    inner_r = []\n",
    "    data = np.concatenate((X_boots[i].reshape(-1, 1), Y_boots[i].reshape(-1, 1)), axis=1)\n",
    "    for j in range(C):\n",
    "        res = resample(data)\n",
    "        x_boots, y_boots = res[:,0], res[:,1]\n",
    "    \n",
    "        r, _ = scipy.stats.pearsonr(x_boots, y_boots)\n",
    "        inner_r.append(r)\n",
    "    var.append(np.std(inner_r))\n",
    "    norm_var.append(np.std(list(map(normalizeR, inner_r))))"
   ]
  },
  {
   "cell_type": "code",
   "execution_count": 248,
   "metadata": {},
   "outputs": [],
   "source": [
    "new_t_boots = (r_boots - R) / var"
   ]
  },
  {
   "cell_type": "markdown",
   "metadata": {},
   "source": [
    "Без нормировки"
   ]
  },
  {
   "cell_type": "code",
   "execution_count": 249,
   "metadata": {},
   "outputs": [
    {
     "data": {
      "image/png": "[encoded data removed]",
      "text/plain": [
       "<Figure size 864x216 with 4 Axes>"
      ]
     },
     "metadata": {
      "needs_background": "light"
     },
     "output_type": "display_data"
    }
   ],
   "source": [
    "plot_cis(r_boots, new_t_boots, np.std(var), R)"
   ]
  },
  {
   "cell_type": "code",
   "execution_count": 250,
   "metadata": {},
   "outputs": [],
   "source": [
    "new_norm_t = (norm_r_boots - normR) / norm_var"
   ]
  },
  {
   "cell_type": "markdown",
   "metadata": {},
   "source": [
    "Нормализованные данные"
   ]
  },
  {
   "cell_type": "code",
   "execution_count": 251,
   "metadata": {},
   "outputs": [
    {
     "data": {
      "image/png": "[encoded data removed]",
      "text/plain": [
       "<Figure size 864x216 with 4 Axes>"
      ]
     },
     "metadata": {
      "needs_background": "light"
     },
     "output_type": "display_data"
    }
   ],
   "source": [
    "plot_cis(norm_r_boots, new_norm_t, np.std(norm_var), normR)"
   ]
  },
  {
   "cell_type": "markdown",
   "metadata": {},
   "source": [
    "Как с нормализацией так и без, ДИ с бутстрапной дисперсией стал намного уже, что видно на графиках (для перцентильного и центрального, очевидно, все неизменно).\n",
    "\n",
    "Бутстрапные дисперсии стали значительно меньше дисперсий, посчитанных аналитически:"
   ]
  },
  {
   "cell_type": "code",
   "execution_count": 78,
   "metadata": {},
   "outputs": [
    {
     "data": {
      "text/plain": [
       "(0.09329278093124789, 0.03146472381791537)"
      ]
     },
     "execution_count": 78,
     "metadata": {},
     "output_type": "execute_result"
    }
   ],
   "source": [
    "np.std(r_boots), np.std(var)"
   ]
  },
  {
   "cell_type": "code",
   "execution_count": 79,
   "metadata": {},
   "outputs": [
    {
     "data": {
      "text/plain": [
       "(0.19308112030477828, 0.041596459894963564)"
      ]
     },
     "execution_count": 79,
     "metadata": {},
     "output_type": "execute_result"
    }
   ],
   "source": [
    "np.std(norm_r_boots), np.std(norm_var)"
   ]
  },
  {
   "cell_type": "markdown",
   "metadata": {},
   "source": [
    "(c).\n",
    "$$\\hat{\\theta}_{(-i)} = \\theta(X_{(-i)})$$\n",
    "\n",
    "$$\\hat{\\theta}_{(\\cdot)} = \\frac{1}{N} \\sum\\limits_{i=1}^{N} \\hat{\\theta}_{(-i)}$$\n",
    "\n",
    "$$\\hat{bias}_{jack} = (n - 1) ( \\hat{\\theta}_{(\\cdot)} - \\hat{\\theta})$$"
   ]
  },
  {
   "cell_type": "code",
   "execution_count": 252,
   "metadata": {},
   "outputs": [],
   "source": [
    "jack_r = []\n",
    "\n",
    "for i in range(N):\n",
    "    x_j, y_j = np.delete(x, i), np.delete(y, i)\n",
    "    r, _ = scipy.stats.pearsonr(x_j, y_j)\n",
    "    jack_r.append(r)"
   ]
  },
  {
   "cell_type": "code",
   "execution_count": 253,
   "metadata": {},
   "outputs": [
    {
     "data": {
      "text/plain": [
       "-0.006784288235183067"
      ]
     },
     "execution_count": 253,
     "metadata": {},
     "output_type": "execute_result"
    }
   ],
   "source": [
    "bias = (N - 1)*(np.mean(jack_r) - R)\n",
    "bias"
   ]
  },
  {
   "cell_type": "markdown",
   "metadata": {},
   "source": [
    "## Задание 6"
   ]
  },
  {
   "cell_type": "code",
   "execution_count": 164,
   "metadata": {},
   "outputs": [
    {
     "data": {
      "text/html": [
       "<div>\n",
       "<style scoped>\n",
       "    .dataframe tbody tr th:only-of-type {\n",
       "        vertical-align: middle;\n",
       "    }\n",
       "\n",
       "    .dataframe tbody tr th {\n",
       "        vertical-align: top;\n",
       "    }\n",
       "\n",
       "    .dataframe thead th {\n",
       "        text-align: right;\n",
       "    }\n",
       "</style>\n",
       "<table border=\"1\" class=\"dataframe\">\n",
       "  <thead>\n",
       "    <tr style=\"text-align: right;\">\n",
       "      <th></th>\n",
       "      <th>purchase</th>\n",
       "      <th>income</th>\n",
       "    </tr>\n",
       "  </thead>\n",
       "  <tbody>\n",
       "    <tr>\n",
       "      <td>0</td>\n",
       "      <td>1.0</td>\n",
       "      <td>72.0</td>\n",
       "    </tr>\n",
       "    <tr>\n",
       "      <td>1</td>\n",
       "      <td>0.0</td>\n",
       "      <td>19.0</td>\n",
       "    </tr>\n",
       "    <tr>\n",
       "      <td>2</td>\n",
       "      <td>0.0</td>\n",
       "      <td>23.0</td>\n",
       "    </tr>\n",
       "    <tr>\n",
       "      <td>3</td>\n",
       "      <td>0.0</td>\n",
       "      <td>33.0</td>\n",
       "    </tr>\n",
       "    <tr>\n",
       "      <td>4</td>\n",
       "      <td>1.0</td>\n",
       "      <td>60.0</td>\n",
       "    </tr>\n",
       "    <tr>\n",
       "      <td>5</td>\n",
       "      <td>1.0</td>\n",
       "      <td>92.0</td>\n",
       "    </tr>\n",
       "    <tr>\n",
       "      <td>6</td>\n",
       "      <td>0.0</td>\n",
       "      <td>10.0</td>\n",
       "    </tr>\n",
       "    <tr>\n",
       "      <td>7</td>\n",
       "      <td>1.0</td>\n",
       "      <td>61.0</td>\n",
       "    </tr>\n",
       "    <tr>\n",
       "      <td>8</td>\n",
       "      <td>0.0</td>\n",
       "      <td>16.0</td>\n",
       "    </tr>\n",
       "    <tr>\n",
       "      <td>9</td>\n",
       "      <td>1.0</td>\n",
       "      <td>40.0</td>\n",
       "    </tr>\n",
       "  </tbody>\n",
       "</table>\n",
       "</div>"
      ],
      "text/plain": [
       "   purchase  income\n",
       "0       1.0    72.0\n",
       "1       0.0    19.0\n",
       "2       0.0    23.0\n",
       "3       0.0    33.0\n",
       "4       1.0    60.0\n",
       "5       1.0    92.0\n",
       "6       0.0    10.0\n",
       "7       1.0    61.0\n",
       "8       0.0    16.0\n",
       "9       1.0    40.0"
      ]
     },
     "execution_count": 164,
     "metadata": {},
     "output_type": "execute_result"
    }
   ],
   "source": [
    "car_reduce = pd.read_table('car_reduced.table')\n",
    "car_reduce"
   ]
  },
  {
   "cell_type": "code",
   "execution_count": 260,
   "metadata": {},
   "outputs": [
    {
     "data": {
      "text/html": [
       "<div>\n",
       "<style scoped>\n",
       "    .dataframe tbody tr th:only-of-type {\n",
       "        vertical-align: middle;\n",
       "    }\n",
       "\n",
       "    .dataframe tbody tr th {\n",
       "        vertical-align: top;\n",
       "    }\n",
       "\n",
       "    .dataframe thead th {\n",
       "        text-align: right;\n",
       "    }\n",
       "</style>\n",
       "<table border=\"1\" class=\"dataframe\">\n",
       "  <thead>\n",
       "    <tr style=\"text-align: right;\">\n",
       "      <th></th>\n",
       "      <th>income</th>\n",
       "    </tr>\n",
       "    <tr>\n",
       "      <th>purchase</th>\n",
       "      <th></th>\n",
       "    </tr>\n",
       "  </thead>\n",
       "  <tbody>\n",
       "    <tr>\n",
       "      <td>0.0</td>\n",
       "      <td>101.0</td>\n",
       "    </tr>\n",
       "    <tr>\n",
       "      <td>1.0</td>\n",
       "      <td>325.0</td>\n",
       "    </tr>\n",
       "  </tbody>\n",
       "</table>\n",
       "</div>"
      ],
      "text/plain": [
       "          income\n",
       "purchase        \n",
       "0.0        101.0\n",
       "1.0        325.0"
      ]
     },
     "execution_count": 260,
     "metadata": {},
     "output_type": "execute_result"
    }
   ],
   "source": [
    "car_reduce.groupby('purchase').sum()"
   ]
  },
  {
   "cell_type": "markdown",
   "metadata": {},
   "source": [
    "1. Проблема Perfect Separation. То есть мы по признаку можем точно предсказать таргет. Например, для этой задачи имеем $y=1$ при $X_1 >= 40$ и $y=0$ при $X_1 < 40$"
   ]
  },
  {
   "cell_type": "markdown",
   "metadata": {},
   "source": [
    "Модель логистической регрессии имеет вид:\n",
    "$\\pi_i = \\frac{exp(\\beta_0 + \\beta_1 x_i)}{1 + exp(\\beta_0 + \\beta_1 x_i)}$\n",
    "\n",
    "Построим Likelihood:\n",
    "\n",
    "$p(x_i) = \\pi_i ^{y_i}(1 - \\pi_i)^{1 - y_i}$\n",
    "\n",
    "$L = \\prod \\pi_i ^{y_i}(1 - \\pi_i)^{1 - y_i}$\n",
    "\n",
    "$$logL = \\sum \\Big[ y_ilog\\pi_i + (1-y_i)log(1 - \\pi_i)\\Big] = \\sum \\Big[ y_i log\\frac{\\pi_i}{1 - \\pi_i} + log(1 - \\pi_i)\\Big] = $$\n",
    "$1 - \\pi_i = \\frac{1}{1 + exp(\\beta_0 + \\beta_1 x_i)}$\n",
    "\n",
    "$log\\frac{\\pi_i}{1 - \\pi_i} = \\beta_0 + \\beta_1 x_i = logit(\\pi_i)$\n",
    "$$ = \\sum \\Big[ y_i(\\beta_0 + \\beta_1 x_i) - log(1 + e^{\\beta_0 + \\beta_1 x_i}) \\Big] \\rightarrow max$$\n",
    "\n",
    "Итак, надо максимизировать logL.\n",
    "\n",
    "В случае конкретно этой задачи:\n",
    "\n",
    "Обозначим $C_0 = \\sum_{i: y_i = 0} x_i = 101 \\\\ C_1 = \\sum_{i: y_i = 1} x_i = 325$\n",
    "\n",
    "$logL = 5\\beta_0 + \\beta_1C_1 - \\sum_{i = 1}^{10} log(1 + e^{\\beta_0 +\\beta_1x_i})$\n",
    "\n",
    "$\\frac{\\partial logL}{\\partial \\beta_1} = C_1 - \\sum_{i = 1}^{10} \\frac{x_i e^{\\beta_0 +\\beta_1x_i}}{1 + e^{\\beta_0 +\\beta_1x_i}} = 0$\n",
    "\n",
    "$C_1 - \\sum_{i=1}^{10}x_i + \\sum_{i=1}^{10} \\frac{x_i}{1 + e^{\\beta_0 +\\beta_1x_i}} = 0$\n",
    "\n",
    "$\\sum_{i=1}^{10} \\frac{x_i}{1 + e^{\\beta_0 +\\beta_1x_i}} = C_0 =  \\sum_{i: y_i = 0} x_i = 101$\n",
    "\n",
    "Отсюда следует, что если\n",
    "\n",
    "$y_i = 0$ то $ : (1 + e^{\\beta_0 +\\beta_1x_i}) \\rightarrow 1 \\Rightarrow \\beta_0 +\\beta_1x_i \\rightarrow -\\infty$\n",
    "\n",
    "\n",
    "$y_i = 1$ то $ : (1 + e^{\\beta_0 +\\beta_1x_i}) \\rightarrow +\\infty \\Rightarrow \\beta_0 +\\beta_1x_i \\rightarrow +\\infty\n",
    "$"
   ]
  },
  {
   "cell_type": "code",
   "execution_count": 454,
   "metadata": {},
   "outputs": [
    {
     "name": "stderr",
     "output_type": "stream",
     "text": [
      "/home/dilara/anaconda3/lib/python3.7/site-packages/sklearn/linear_model/logistic.py:432: FutureWarning: Default solver will be changed to 'lbfgs' in 0.22. Specify a solver to silence this warning.\n",
      "  FutureWarning)\n"
     ]
    },
    {
     "data": {
      "text/plain": [
       "array([[0.04738341]])"
      ]
     },
     "execution_count": 454,
     "metadata": {},
     "output_type": "execute_result"
    }
   ],
   "source": [
    "from sklearn.linear_model import LogisticRegression\n",
    "m0 = LogisticRegression().fit(y=car_reduce['purchase'], X=car_reduce[['income']])\n",
    "m0.coef_"
   ]
  },
  {
   "cell_type": "code",
   "execution_count": 455,
   "metadata": {},
   "outputs": [
    {
     "name": "stdout",
     "output_type": "stream",
     "text": [
      "Optimization terminated successfully.\n",
      "         Current function value: 0.584143\n",
      "         Iterations 5\n"
     ]
    }
   ],
   "source": [
    "mod1 = sm.Logit(car_reduce['purchase'], car_reduce[['income']]).fit()"
   ]
  },
  {
   "cell_type": "code",
   "execution_count": 429,
   "metadata": {},
   "outputs": [],
   "source": [
    "b1 = (mod1.params.values)"
   ]
  },
  {
   "cell_type": "code",
   "execution_count": 430,
   "metadata": {},
   "outputs": [],
   "source": [
    "def Likelihood(b, model):\n",
    "    return -(model.loglike(b) + 0.5*np.log(np.linalg.det(-model.hessian(b))))\n",
    "\n",
    "def Firth(y, X, v0=None, steps=1000, conv=0.0001):\n",
    "    model = sm.Logit(y, X)\n",
    "    \n",
    "    if v0 is None:\n",
    "        v0 = np.zeros(X.shape[1])\n",
    "    \n",
    "    b_i = []\n",
    "    b_i.append(v0)\n",
    "    \n",
    "    for i in range(0, steps):\n",
    "        pi = model.predict(b_i[i])\n",
    "        \n",
    "        W = np.diagflat(np.multiply(pi, 1-pi))\n",
    "        H = np.linalg.pinv(-model.hessian(b_i[i]))\n",
    "        M = np.dot(np.transpose(X), np.transpose(np.sqrt(W)))\n",
    "        M = np.matmul(H, M)\n",
    "        M = np.matmul(np.dot(np.sqrt(W), X), M)\n",
    "        \n",
    "        U = np.matmul(np.transpose(X), y - pi + np.multiply(np.diagonal(M), 1/2 - pi))\n",
    "        new_beta = b_i[i] + np.matmul(H, U)\n",
    "\n",
    "        j = 0\n",
    "        while Likelihood(new_beta, model) > Likelihood(b_i[i], model) and j <= steps:\n",
    "            new_beta = b_i[i] + 0.5*(new_beta - b_i[i])\n",
    "            j = j + 1\n",
    "            \n",
    "        b_i.append(new_beta)\n",
    "        if i > 0 and (np.linalg.norm(b_i[i] - b_i[i-1]) < conv):\n",
    "            break\n",
    "\n",
    "    return_fit = None\n",
    "    b = b_i[-1]\n",
    "    return b"
   ]
  },
  {
   "cell_type": "code",
   "execution_count": 431,
   "metadata": {},
   "outputs": [
    {
     "data": {
      "text/plain": [
       "array([0.01693913])"
      ]
     },
     "execution_count": 431,
     "metadata": {},
     "output_type": "execute_result"
    }
   ],
   "source": [
    "b1_f = Firth(car_reduce['purchase'].values, car_reduce[['income']].values, b1)\n",
    "b1_f"
   ]
  },
  {
   "cell_type": "code",
   "execution_count": 434,
   "metadata": {},
   "outputs": [
    {
     "name": "stdout",
     "output_type": "stream",
     "text": [
      "b1 without regularization:  [0.02120392] \n",
      "b1 with regularization :  [0.01693913]\n"
     ]
    }
   ],
   "source": [
    "print('b1 without regularization: ', b1, '\\nb1 with regularization : ', b1_f)"
   ]
  },
  {
   "cell_type": "code",
   "execution_count": 216,
   "metadata": {},
   "outputs": [
    {
     "data": {
      "text/html": [
       "<div>\n",
       "<style scoped>\n",
       "    .dataframe tbody tr th:only-of-type {\n",
       "        vertical-align: middle;\n",
       "    }\n",
       "\n",
       "    .dataframe tbody tr th {\n",
       "        vertical-align: top;\n",
       "    }\n",
       "\n",
       "    .dataframe thead th {\n",
       "        text-align: right;\n",
       "    }\n",
       "</style>\n",
       "<table border=\"1\" class=\"dataframe\">\n",
       "  <thead>\n",
       "    <tr style=\"text-align: right;\">\n",
       "      <th></th>\n",
       "      <th>purchase</th>\n",
       "      <th>income</th>\n",
       "      <th>age</th>\n",
       "    </tr>\n",
       "  </thead>\n",
       "  <tbody>\n",
       "    <tr>\n",
       "      <td>0</td>\n",
       "      <td>0.0</td>\n",
       "      <td>32.0</td>\n",
       "      <td>3.0</td>\n",
       "    </tr>\n",
       "    <tr>\n",
       "      <td>1</td>\n",
       "      <td>0.0</td>\n",
       "      <td>45.0</td>\n",
       "      <td>2.0</td>\n",
       "    </tr>\n",
       "    <tr>\n",
       "      <td>2</td>\n",
       "      <td>1.0</td>\n",
       "      <td>60.0</td>\n",
       "      <td>2.0</td>\n",
       "    </tr>\n",
       "    <tr>\n",
       "      <td>3</td>\n",
       "      <td>0.0</td>\n",
       "      <td>53.0</td>\n",
       "      <td>1.0</td>\n",
       "    </tr>\n",
       "    <tr>\n",
       "      <td>4</td>\n",
       "      <td>0.0</td>\n",
       "      <td>25.0</td>\n",
       "      <td>4.0</td>\n",
       "    </tr>\n",
       "    <tr>\n",
       "      <td>5</td>\n",
       "      <td>1.0</td>\n",
       "      <td>68.0</td>\n",
       "      <td>1.0</td>\n",
       "    </tr>\n",
       "    <tr>\n",
       "      <td>6</td>\n",
       "      <td>1.0</td>\n",
       "      <td>82.0</td>\n",
       "      <td>2.0</td>\n",
       "    </tr>\n",
       "    <tr>\n",
       "      <td>7</td>\n",
       "      <td>1.0</td>\n",
       "      <td>38.0</td>\n",
       "      <td>5.0</td>\n",
       "    </tr>\n",
       "    <tr>\n",
       "      <td>8</td>\n",
       "      <td>0.0</td>\n",
       "      <td>67.0</td>\n",
       "      <td>2.0</td>\n",
       "    </tr>\n",
       "    <tr>\n",
       "      <td>9</td>\n",
       "      <td>1.0</td>\n",
       "      <td>92.0</td>\n",
       "      <td>2.0</td>\n",
       "    </tr>\n",
       "    <tr>\n",
       "      <td>10</td>\n",
       "      <td>1.0</td>\n",
       "      <td>72.0</td>\n",
       "      <td>3.0</td>\n",
       "    </tr>\n",
       "    <tr>\n",
       "      <td>11</td>\n",
       "      <td>0.0</td>\n",
       "      <td>21.0</td>\n",
       "      <td>5.0</td>\n",
       "    </tr>\n",
       "    <tr>\n",
       "      <td>12</td>\n",
       "      <td>0.0</td>\n",
       "      <td>26.0</td>\n",
       "      <td>3.0</td>\n",
       "    </tr>\n",
       "    <tr>\n",
       "      <td>13</td>\n",
       "      <td>1.0</td>\n",
       "      <td>40.0</td>\n",
       "      <td>4.0</td>\n",
       "    </tr>\n",
       "    <tr>\n",
       "      <td>14</td>\n",
       "      <td>0.0</td>\n",
       "      <td>33.0</td>\n",
       "      <td>3.0</td>\n",
       "    </tr>\n",
       "    <tr>\n",
       "      <td>15</td>\n",
       "      <td>0.0</td>\n",
       "      <td>45.0</td>\n",
       "      <td>1.0</td>\n",
       "    </tr>\n",
       "    <tr>\n",
       "      <td>16</td>\n",
       "      <td>1.0</td>\n",
       "      <td>61.0</td>\n",
       "      <td>2.0</td>\n",
       "    </tr>\n",
       "    <tr>\n",
       "      <td>17</td>\n",
       "      <td>0.0</td>\n",
       "      <td>16.0</td>\n",
       "      <td>3.0</td>\n",
       "    </tr>\n",
       "    <tr>\n",
       "      <td>18</td>\n",
       "      <td>1.0</td>\n",
       "      <td>18.0</td>\n",
       "      <td>4.0</td>\n",
       "    </tr>\n",
       "    <tr>\n",
       "      <td>19</td>\n",
       "      <td>0.0</td>\n",
       "      <td>22.0</td>\n",
       "      <td>6.0</td>\n",
       "    </tr>\n",
       "    <tr>\n",
       "      <td>20</td>\n",
       "      <td>0.0</td>\n",
       "      <td>27.0</td>\n",
       "      <td>3.0</td>\n",
       "    </tr>\n",
       "    <tr>\n",
       "      <td>21</td>\n",
       "      <td>1.0</td>\n",
       "      <td>35.0</td>\n",
       "      <td>3.0</td>\n",
       "    </tr>\n",
       "    <tr>\n",
       "      <td>22</td>\n",
       "      <td>1.0</td>\n",
       "      <td>40.0</td>\n",
       "      <td>3.0</td>\n",
       "    </tr>\n",
       "    <tr>\n",
       "      <td>23</td>\n",
       "      <td>0.0</td>\n",
       "      <td>10.0</td>\n",
       "      <td>4.0</td>\n",
       "    </tr>\n",
       "    <tr>\n",
       "      <td>24</td>\n",
       "      <td>0.0</td>\n",
       "      <td>24.0</td>\n",
       "      <td>3.0</td>\n",
       "    </tr>\n",
       "    <tr>\n",
       "      <td>25</td>\n",
       "      <td>1.0</td>\n",
       "      <td>15.0</td>\n",
       "      <td>4.0</td>\n",
       "    </tr>\n",
       "    <tr>\n",
       "      <td>26</td>\n",
       "      <td>0.0</td>\n",
       "      <td>23.0</td>\n",
       "      <td>3.0</td>\n",
       "    </tr>\n",
       "    <tr>\n",
       "      <td>27</td>\n",
       "      <td>0.0</td>\n",
       "      <td>19.0</td>\n",
       "      <td>5.0</td>\n",
       "    </tr>\n",
       "    <tr>\n",
       "      <td>28</td>\n",
       "      <td>1.0</td>\n",
       "      <td>22.0</td>\n",
       "      <td>2.0</td>\n",
       "    </tr>\n",
       "    <tr>\n",
       "      <td>29</td>\n",
       "      <td>0.0</td>\n",
       "      <td>61.0</td>\n",
       "      <td>2.0</td>\n",
       "    </tr>\n",
       "    <tr>\n",
       "      <td>30</td>\n",
       "      <td>0.0</td>\n",
       "      <td>21.0</td>\n",
       "      <td>3.0</td>\n",
       "    </tr>\n",
       "    <tr>\n",
       "      <td>31</td>\n",
       "      <td>1.0</td>\n",
       "      <td>32.0</td>\n",
       "      <td>5.0</td>\n",
       "    </tr>\n",
       "    <tr>\n",
       "      <td>32</td>\n",
       "      <td>0.0</td>\n",
       "      <td>17.0</td>\n",
       "      <td>1.0</td>\n",
       "    </tr>\n",
       "  </tbody>\n",
       "</table>\n",
       "</div>"
      ],
      "text/plain": [
       "    purchase  income  age\n",
       "0        0.0    32.0  3.0\n",
       "1        0.0    45.0  2.0\n",
       "2        1.0    60.0  2.0\n",
       "3        0.0    53.0  1.0\n",
       "4        0.0    25.0  4.0\n",
       "5        1.0    68.0  1.0\n",
       "6        1.0    82.0  2.0\n",
       "7        1.0    38.0  5.0\n",
       "8        0.0    67.0  2.0\n",
       "9        1.0    92.0  2.0\n",
       "10       1.0    72.0  3.0\n",
       "11       0.0    21.0  5.0\n",
       "12       0.0    26.0  3.0\n",
       "13       1.0    40.0  4.0\n",
       "14       0.0    33.0  3.0\n",
       "15       0.0    45.0  1.0\n",
       "16       1.0    61.0  2.0\n",
       "17       0.0    16.0  3.0\n",
       "18       1.0    18.0  4.0\n",
       "19       0.0    22.0  6.0\n",
       "20       0.0    27.0  3.0\n",
       "21       1.0    35.0  3.0\n",
       "22       1.0    40.0  3.0\n",
       "23       0.0    10.0  4.0\n",
       "24       0.0    24.0  3.0\n",
       "25       1.0    15.0  4.0\n",
       "26       0.0    23.0  3.0\n",
       "27       0.0    19.0  5.0\n",
       "28       1.0    22.0  2.0\n",
       "29       0.0    61.0  2.0\n",
       "30       0.0    21.0  3.0\n",
       "31       1.0    32.0  5.0\n",
       "32       0.0    17.0  1.0"
      ]
     },
     "execution_count": 216,
     "metadata": {},
     "output_type": "execute_result"
    }
   ],
   "source": [
    "car = pd.read_table('car.table', sep='  ')\n",
    "car.drop(columns='income', inplace=True)\n",
    "car.reset_index(inplace=True)\n",
    "car.rename(columns={\"index\": \"purchase\", \"purchase\": \"income\"}, inplace=True)\n",
    "car"
   ]
  },
  {
   "cell_type": "code",
   "execution_count": 335,
   "metadata": {},
   "outputs": [],
   "source": [
    "import statsmodels.api as sm"
   ]
  },
  {
   "cell_type": "code",
   "execution_count": 457,
   "metadata": {},
   "outputs": [
    {
     "name": "stderr",
     "output_type": "stream",
     "text": [
      "/home/dilara/anaconda3/lib/python3.7/site-packages/sklearn/linear_model/logistic.py:432: FutureWarning: Default solver will be changed to 'lbfgs' in 0.22. Specify a solver to silence this warning.\n",
      "  FutureWarning)\n"
     ]
    },
    {
     "data": {
      "text/plain": [
       "array([[ 0.02708942, -0.02759484]])"
      ]
     },
     "execution_count": 457,
     "metadata": {},
     "output_type": "execute_result"
    }
   ],
   "source": [
    "m00 = LogisticRegression().fit(y=car['purchase'], X=car[['income', 'age']])\n",
    "m00.coef_"
   ]
  },
  {
   "cell_type": "code",
   "execution_count": 443,
   "metadata": {},
   "outputs": [
    {
     "name": "stdout",
     "output_type": "stream",
     "text": [
      "Optimization terminated successfully.\n",
      "         Current function value: 0.657142\n",
      "         Iterations 4\n"
     ]
    }
   ],
   "source": [
    "mod = sm.Logit(car['purchase'], car[['income', 'age']], family=sm.families.Binomial()).fit()"
   ]
  },
  {
   "cell_type": "code",
   "execution_count": 444,
   "metadata": {},
   "outputs": [
    {
     "data": {
      "text/plain": [
       "(0.015304929888935772, -0.23440449364105673)"
      ]
     },
     "execution_count": 444,
     "metadata": {},
     "output_type": "execute_result"
    }
   ],
   "source": [
    "b1, b2 = (mod.params.values)\n",
    "b1, b2"
   ]
  },
  {
   "cell_type": "code",
   "execution_count": 445,
   "metadata": {},
   "outputs": [
    {
     "data": {
      "text/plain": [
       "(0.013826314526343388, -0.21461705618976243)"
      ]
     },
     "execution_count": 445,
     "metadata": {},
     "output_type": "execute_result"
    }
   ],
   "source": [
    "b1_f, b2_f = Firth(car['purchase'].values, car[['income', 'age']].values)\n",
    "b1_f, b2_f"
   ]
  },
  {
   "cell_type": "code",
   "execution_count": 446,
   "metadata": {},
   "outputs": [
    {
     "data": {
      "text/html": [
       "<table class=\"simpletable\">\n",
       "<caption>Generalized Linear Model Regression Results</caption>\n",
       "<tr>\n",
       "  <th>Dep. Variable:</th>       <td>purchase</td>     <th>  No. Observations:  </th>  <td>    33</td> \n",
       "</tr>\n",
       "<tr>\n",
       "  <th>Model:</th>                  <td>GLM</td>       <th>  Df Residuals:      </th>  <td>    31</td> \n",
       "</tr>\n",
       "<tr>\n",
       "  <th>Model Family:</th>        <td>Binomial</td>     <th>  Df Model:          </th>  <td>     1</td> \n",
       "</tr>\n",
       "<tr>\n",
       "  <th>Link Function:</th>         <td>logit</td>      <th>  Scale:             </th> <td>  1.0000</td>\n",
       "</tr>\n",
       "<tr>\n",
       "  <th>Method:</th>                <td>IRLS</td>       <th>  Log-Likelihood:    </th> <td> -21.686</td>\n",
       "</tr>\n",
       "<tr>\n",
       "  <th>Date:</th>            <td>Sun, 22 Dec 2019</td> <th>  Deviance:          </th> <td>  43.371</td>\n",
       "</tr>\n",
       "<tr>\n",
       "  <th>Time:</th>                <td>21:13:44</td>     <th>  Pearson chi2:      </th>  <td>  32.8</td> \n",
       "</tr>\n",
       "<tr>\n",
       "  <th>No. Iterations:</th>          <td>4</td>        <th>                     </th>     <td> </td>   \n",
       "</tr>\n",
       "<tr>\n",
       "  <th>Covariance Type:</th>     <td>nonrobust</td>    <th>                     </th>     <td> </td>   \n",
       "</tr>\n",
       "</table>\n",
       "<table class=\"simpletable\">\n",
       "<tr>\n",
       "     <td></td>       <th>coef</th>     <th>std err</th>      <th>z</th>      <th>P>|z|</th>  <th>[0.025</th>    <th>0.975]</th>  \n",
       "</tr>\n",
       "<tr>\n",
       "  <th>income</th> <td>    0.0153</td> <td>    0.012</td> <td>    1.276</td> <td> 0.202</td> <td>   -0.008</td> <td>    0.039</td>\n",
       "</tr>\n",
       "<tr>\n",
       "  <th>age</th>    <td>   -0.2344</td> <td>    0.161</td> <td>   -1.452</td> <td> 0.146</td> <td>   -0.551</td> <td>    0.082</td>\n",
       "</tr>\n",
       "</table>"
      ],
      "text/plain": [
       "<class 'statsmodels.iolib.summary.Summary'>\n",
       "\"\"\"\n",
       "                 Generalized Linear Model Regression Results                  \n",
       "==============================================================================\n",
       "Dep. Variable:               purchase   No. Observations:                   33\n",
       "Model:                            GLM   Df Residuals:                       31\n",
       "Model Family:                Binomial   Df Model:                            1\n",
       "Link Function:                  logit   Scale:                          1.0000\n",
       "Method:                          IRLS   Log-Likelihood:                -21.686\n",
       "Date:                Sun, 22 Dec 2019   Deviance:                       43.371\n",
       "Time:                        21:13:44   Pearson chi2:                     32.8\n",
       "No. Iterations:                     4                                         \n",
       "Covariance Type:            nonrobust                                         \n",
       "==============================================================================\n",
       "                 coef    std err          z      P>|z|      [0.025      0.975]\n",
       "------------------------------------------------------------------------------\n",
       "income         0.0153      0.012      1.276      0.202      -0.008       0.039\n",
       "age           -0.2344      0.161     -1.452      0.146      -0.551       0.082\n",
       "==============================================================================\n",
       "\"\"\""
      ]
     },
     "execution_count": 446,
     "metadata": {},
     "output_type": "execute_result"
    }
   ],
   "source": [
    "mod3 = sm.GLM(car['purchase'], car[['income', 'age']], family=sm.families.Binomial()).fit()\n",
    "mod3.summary()"
   ]
  },
  {
   "cell_type": "code",
   "execution_count": 464,
   "metadata": {},
   "outputs": [
    {
     "data": {
      "image/png": "[encoded data removed]",
      "text/plain": [
       "<Figure size 432x360 with 1 Axes>"
      ]
     },
     "metadata": {
      "needs_background": "light"
     },
     "output_type": "display_data"
    }
   ],
   "source": [
    "res = mod3.resid_deviance\n",
    "fig = sm.qqplot(res, line='s')\n",
    "fig.set_figheight(5)\n",
    "fig.set_figwidth(6)\n",
    "plt.show()"
   ]
  },
  {
   "cell_type": "markdown",
   "metadata": {},
   "source": [
    "QQ-plot показывает насколько нормально распределены остатки. По получившемуся графику, так как это остатаки девиансы значительно ненормальны, что часто проиходит в логистической регрессии."
   ]
  },
  {
   "cell_type": "code",
   "execution_count": null,
   "metadata": {},
   "outputs": [],
   "source": []
  }
 ],
 "metadata": {
  "kernelspec": {
   "display_name": "Python 2",
   "language": "python",
   "name": "python2"
  },
  "language_info": {
   "codemirror_mode": {
    "name": "ipython",
    "version": 2
   },
   "file_extension": ".py",
   "mimetype": "text/x-python",
   "name": "python",
   "nbconvert_exporter": "python",
   "pygments_lexer": "ipython2",
   "version": "2.7.6"
  }
 },
 "nbformat": 4,
 "nbformat_minor": 2
}
